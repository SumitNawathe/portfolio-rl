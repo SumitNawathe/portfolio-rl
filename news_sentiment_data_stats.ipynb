{
 "cells": [
  {
   "cell_type": "code",
   "execution_count": 30,
   "metadata": {},
   "outputs": [],
   "source": [
    "import numpy as np\n",
    "import pandas as pd\n",
    "import matplotlib.pyplot as plt"
   ]
  },
  {
   "cell_type": "code",
   "execution_count": 12,
   "metadata": {},
   "outputs": [],
   "source": [
    "df = pd.read_csv('news_sentiment_data.csv')"
   ]
  },
  {
   "cell_type": "code",
   "execution_count": 13,
   "metadata": {},
   "outputs": [
    {
     "data": {
      "text/html": [
       "<div>\n",
       "<style scoped>\n",
       "    .dataframe tbody tr th:only-of-type {\n",
       "        vertical-align: middle;\n",
       "    }\n",
       "\n",
       "    .dataframe tbody tr th {\n",
       "        vertical-align: top;\n",
       "    }\n",
       "\n",
       "    .dataframe thead th {\n",
       "        text-align: right;\n",
       "    }\n",
       "</style>\n",
       "<table border=\"1\" class=\"dataframe\">\n",
       "  <thead>\n",
       "    <tr style=\"text-align: right;\">\n",
       "      <th></th>\n",
       "      <th>Unnamed: 0</th>\n",
       "      <th>Ticker</th>\n",
       "      <th>Date</th>\n",
       "      <th>Tone</th>\n",
       "      <th>sentiment_embedding</th>\n",
       "    </tr>\n",
       "  </thead>\n",
       "  <tbody>\n",
       "    <tr>\n",
       "      <th>0</th>\n",
       "      <td>0</td>\n",
       "      <td>AAPL</td>\n",
       "      <td>2020-03-09</td>\n",
       "      <td>0.666667</td>\n",
       "      <td>0.995251</td>\n",
       "    </tr>\n",
       "    <tr>\n",
       "      <th>1</th>\n",
       "      <td>1</td>\n",
       "      <td>AAPL</td>\n",
       "      <td>2020-03-10</td>\n",
       "      <td>0.000000</td>\n",
       "      <td>0.724631</td>\n",
       "    </tr>\n",
       "    <tr>\n",
       "      <th>2</th>\n",
       "      <td>2</td>\n",
       "      <td>AAPL</td>\n",
       "      <td>2020-03-11</td>\n",
       "      <td>0.000000</td>\n",
       "      <td>0.308984</td>\n",
       "    </tr>\n",
       "    <tr>\n",
       "      <th>3</th>\n",
       "      <td>3</td>\n",
       "      <td>AAPL</td>\n",
       "      <td>2020-03-12</td>\n",
       "      <td>-0.200000</td>\n",
       "      <td>0.284172</td>\n",
       "    </tr>\n",
       "    <tr>\n",
       "      <th>4</th>\n",
       "      <td>4</td>\n",
       "      <td>AAPL</td>\n",
       "      <td>2020-03-13</td>\n",
       "      <td>0.000000</td>\n",
       "      <td>0.097359</td>\n",
       "    </tr>\n",
       "    <tr>\n",
       "      <th>...</th>\n",
       "      <td>...</td>\n",
       "      <td>...</td>\n",
       "      <td>...</td>\n",
       "      <td>...</td>\n",
       "      <td>...</td>\n",
       "    </tr>\n",
       "    <tr>\n",
       "      <th>70867</th>\n",
       "      <td>70867</td>\n",
       "      <td>XOM</td>\n",
       "      <td>2020-05-30</td>\n",
       "      <td>0.000000</td>\n",
       "      <td>0.969918</td>\n",
       "    </tr>\n",
       "    <tr>\n",
       "      <th>70868</th>\n",
       "      <td>70868</td>\n",
       "      <td>XOM</td>\n",
       "      <td>2020-06-01</td>\n",
       "      <td>-1.000000</td>\n",
       "      <td>-1.000000</td>\n",
       "    </tr>\n",
       "    <tr>\n",
       "      <th>70869</th>\n",
       "      <td>70869</td>\n",
       "      <td>XOM</td>\n",
       "      <td>2020-06-02</td>\n",
       "      <td>1.000000</td>\n",
       "      <td>1.000000</td>\n",
       "    </tr>\n",
       "    <tr>\n",
       "      <th>70870</th>\n",
       "      <td>70870</td>\n",
       "      <td>XOM</td>\n",
       "      <td>2020-06-03</td>\n",
       "      <td>0.500000</td>\n",
       "      <td>0.119151</td>\n",
       "    </tr>\n",
       "    <tr>\n",
       "      <th>70871</th>\n",
       "      <td>70871</td>\n",
       "      <td>XOM</td>\n",
       "      <td>2020-06-04</td>\n",
       "      <td>0.000000</td>\n",
       "      <td>-0.790955</td>\n",
       "    </tr>\n",
       "  </tbody>\n",
       "</table>\n",
       "<p>70872 rows × 5 columns</p>\n",
       "</div>"
      ],
      "text/plain": [
       "       Unnamed: 0 Ticker        Date      Tone  sentiment_embedding\n",
       "0               0   AAPL  2020-03-09  0.666667             0.995251\n",
       "1               1   AAPL  2020-03-10  0.000000             0.724631\n",
       "2               2   AAPL  2020-03-11  0.000000             0.308984\n",
       "3               3   AAPL  2020-03-12 -0.200000             0.284172\n",
       "4               4   AAPL  2020-03-13  0.000000             0.097359\n",
       "...           ...    ...         ...       ...                  ...\n",
       "70867       70867    XOM  2020-05-30  0.000000             0.969918\n",
       "70868       70868    XOM  2020-06-01 -1.000000            -1.000000\n",
       "70869       70869    XOM  2020-06-02  1.000000             1.000000\n",
       "70870       70870    XOM  2020-06-03  0.500000             0.119151\n",
       "70871       70871    XOM  2020-06-04  0.000000            -0.790955\n",
       "\n",
       "[70872 rows x 5 columns]"
      ]
     },
     "execution_count": 13,
     "metadata": {},
     "output_type": "execute_result"
    }
   ],
   "source": [
    "df"
   ]
  },
  {
   "cell_type": "code",
   "execution_count": 16,
   "metadata": {},
   "outputs": [],
   "source": [
    "df['Date'] = pd.to_datetime(df['Date'])"
   ]
  },
  {
   "cell_type": "code",
   "execution_count": 14,
   "metadata": {},
   "outputs": [
    {
     "data": {
      "text/plain": [
       "84"
      ]
     },
     "execution_count": 14,
     "metadata": {},
     "output_type": "execute_result"
    }
   ],
   "source": [
    "len(df.Ticker.unique())"
   ]
  },
  {
   "cell_type": "code",
   "execution_count": 15,
   "metadata": {},
   "outputs": [
    {
     "name": "stdout",
     "output_type": "stream",
     "text": [
      "<class 'pandas.core.frame.DataFrame'>\n",
      "RangeIndex: 70872 entries, 0 to 70871\n",
      "Data columns (total 5 columns):\n",
      " #   Column               Non-Null Count  Dtype  \n",
      "---  ------               --------------  -----  \n",
      " 0   Unnamed: 0           70872 non-null  int64  \n",
      " 1   Ticker               70872 non-null  object \n",
      " 2   Date                 70872 non-null  object \n",
      " 3   Tone                 70872 non-null  float64\n",
      " 4   sentiment_embedding  70872 non-null  float64\n",
      "dtypes: float64(2), int64(1), object(2)\n",
      "memory usage: 2.7+ MB\n"
     ]
    }
   ],
   "source": [
    "df.info()"
   ]
  },
  {
   "cell_type": "code",
   "execution_count": 33,
   "metadata": {},
   "outputs": [
    {
     "data": {
      "text/plain": [
       "Text(0.5, 1.0, 'Distribution of Companies with News Reports')"
      ]
     },
     "execution_count": 33,
     "metadata": {},
     "output_type": "execute_result"
    },
    {
     "data": {
      "image/png": "[encoded data removed]",
      "text/plain": [
       "<Figure size 640x480 with 1 Axes>"
      ]
     },
     "metadata": {},
     "output_type": "display_data"
    }
   ],
   "source": [
    "date_df = df.sort_values(by = ['Date'])\n",
    "date_dist = date_df.Date.value_counts().sort_index()\n",
    "plt.bar(date_dist.index, date_dist.values)\n",
    "plt.title(\"Distribution of Companies with News Reports\")"
   ]
  },
  {
   "cell_type": "code",
   "execution_count": 37,
   "metadata": {},
   "outputs": [
    {
     "data": {
      "text/plain": [
       "<Axes: >"
      ]
     },
     "execution_count": 37,
     "metadata": {},
     "output_type": "execute_result"
    },
    {
     "data": {
      "image/png": "[encoded data removed]",
      "text/plain": [
       "<Figure size 640x480 with 1 Axes>"
      ]
     },
     "metadata": {},
     "output_type": "display_data"
    }
   ],
   "source": [
    "df.groupby(['Ticker']).size().plot(kind = 'box')\n",
    "plt.title(\"Distribution of \")\n",
    "plt.ylabel(\"Number of Days with News Report\")\n",
    "plt.xlabel(\"\")"
   ]
  },
  {
   "cell_type": "code",
   "execution_count": 41,
   "metadata": {},
   "outputs": [
    {
     "data": {
      "text/plain": [
       "count      84.000000\n",
       "mean      843.714286\n",
       "std       508.209130\n",
       "min         1.000000\n",
       "25%       393.250000\n",
       "50%       905.000000\n",
       "75%      1198.500000\n",
       "max      1829.000000\n",
       "dtype: float64"
      ]
     },
     "execution_count": 41,
     "metadata": {},
     "output_type": "execute_result"
    }
   ],
   "source": [
    "df.groupby(['Ticker']).size().describe()"
   ]
  },
  {
   "cell_type": "code",
   "execution_count": 21,
   "metadata": {},
   "outputs": [
    {
     "data": {
      "text/html": [
       "<div>\n",
       "<style scoped>\n",
       "    .dataframe tbody tr th:only-of-type {\n",
       "        vertical-align: middle;\n",
       "    }\n",
       "\n",
       "    .dataframe tbody tr th {\n",
       "        vertical-align: top;\n",
       "    }\n",
       "\n",
       "    .dataframe thead th {\n",
       "        text-align: right;\n",
       "    }\n",
       "</style>\n",
       "<table border=\"1\" class=\"dataframe\">\n",
       "  <thead>\n",
       "    <tr style=\"text-align: right;\">\n",
       "      <th></th>\n",
       "      <th>Unnamed: 0</th>\n",
       "      <th>Ticker</th>\n",
       "      <th>Date</th>\n",
       "      <th>Tone</th>\n",
       "      <th>sentiment_embedding</th>\n",
       "    </tr>\n",
       "  </thead>\n",
       "  <tbody>\n",
       "    <tr>\n",
       "      <th>36590</th>\n",
       "      <td>36590</td>\n",
       "      <td>KO</td>\n",
       "      <td>2009-06-22</td>\n",
       "      <td>0.0</td>\n",
       "      <td>-0.594365</td>\n",
       "    </tr>\n",
       "    <tr>\n",
       "      <th>49886</th>\n",
       "      <td>49886</td>\n",
       "      <td>MRK</td>\n",
       "      <td>2009-07-27</td>\n",
       "      <td>1.0</td>\n",
       "      <td>1.000000</td>\n",
       "    </tr>\n",
       "    <tr>\n",
       "      <th>15822</th>\n",
       "      <td>15822</td>\n",
       "      <td>COF</td>\n",
       "      <td>2009-07-27</td>\n",
       "      <td>1.0</td>\n",
       "      <td>1.000000</td>\n",
       "    </tr>\n",
       "    <tr>\n",
       "      <th>65306</th>\n",
       "      <td>65306</td>\n",
       "      <td>TXN</td>\n",
       "      <td>2009-07-27</td>\n",
       "      <td>0.0</td>\n",
       "      <td>0.221793</td>\n",
       "    </tr>\n",
       "    <tr>\n",
       "      <th>41829</th>\n",
       "      <td>41829</td>\n",
       "      <td>MA</td>\n",
       "      <td>2009-08-07</td>\n",
       "      <td>0.0</td>\n",
       "      <td>-0.114205</td>\n",
       "    </tr>\n",
       "    <tr>\n",
       "      <th>...</th>\n",
       "      <td>...</td>\n",
       "      <td>...</td>\n",
       "      <td>...</td>\n",
       "      <td>...</td>\n",
       "      <td>...</td>\n",
       "    </tr>\n",
       "    <tr>\n",
       "      <th>64718</th>\n",
       "      <td>64718</td>\n",
       "      <td>TMO</td>\n",
       "      <td>2020-06-04</td>\n",
       "      <td>0.0</td>\n",
       "      <td>0.720358</td>\n",
       "    </tr>\n",
       "    <tr>\n",
       "      <th>33268</th>\n",
       "      <td>33268</td>\n",
       "      <td>IBM</td>\n",
       "      <td>2020-06-04</td>\n",
       "      <td>1.0</td>\n",
       "      <td>0.982630</td>\n",
       "    </tr>\n",
       "    <tr>\n",
       "      <th>32786</th>\n",
       "      <td>32786</td>\n",
       "      <td>HD</td>\n",
       "      <td>2020-06-04</td>\n",
       "      <td>1.0</td>\n",
       "      <td>1.000000</td>\n",
       "    </tr>\n",
       "    <tr>\n",
       "      <th>49885</th>\n",
       "      <td>49885</td>\n",
       "      <td>MO</td>\n",
       "      <td>2020-06-04</td>\n",
       "      <td>-1.0</td>\n",
       "      <td>-1.000000</td>\n",
       "    </tr>\n",
       "    <tr>\n",
       "      <th>70871</th>\n",
       "      <td>70871</td>\n",
       "      <td>XOM</td>\n",
       "      <td>2020-06-04</td>\n",
       "      <td>0.0</td>\n",
       "      <td>-0.790955</td>\n",
       "    </tr>\n",
       "  </tbody>\n",
       "</table>\n",
       "<p>70872 rows × 5 columns</p>\n",
       "</div>"
      ],
      "text/plain": [
       "       Unnamed: 0 Ticker       Date  Tone  sentiment_embedding\n",
       "36590       36590     KO 2009-06-22   0.0            -0.594365\n",
       "49886       49886    MRK 2009-07-27   1.0             1.000000\n",
       "15822       15822    COF 2009-07-27   1.0             1.000000\n",
       "65306       65306    TXN 2009-07-27   0.0             0.221793\n",
       "41829       41829     MA 2009-08-07   0.0            -0.114205\n",
       "...           ...    ...        ...   ...                  ...\n",
       "64718       64718    TMO 2020-06-04   0.0             0.720358\n",
       "33268       33268    IBM 2020-06-04   1.0             0.982630\n",
       "32786       32786     HD 2020-06-04   1.0             1.000000\n",
       "49885       49885     MO 2020-06-04  -1.0            -1.000000\n",
       "70871       70871    XOM 2020-06-04   0.0            -0.790955\n",
       "\n",
       "[70872 rows x 5 columns]"
      ]
     },
     "execution_count": 21,
     "metadata": {},
     "output_type": "execute_result"
    }
   ],
   "source": [
    "date_df"
   ]
  },
  {
   "cell_type": "code",
   "execution_count": 45,
   "metadata": {},
   "outputs": [
    {
     "data": {
      "image/png": "[encoded data removed]",
      "text/plain": [
       "<Figure size 640x480 with 1 Axes>"
      ]
     },
     "metadata": {},
     "output_type": "display_data"
    }
   ],
   "source": [
    "date_df.sentiment_embedding.plot.hist()\n",
    "plt.title(\"News Sentiment Distribution\")\n",
    "plt.xlabel(\"Sentiment Score\")\n",
    "plt.savefig('news_sent_dist.pdf')"
   ]
  },
  {
   "cell_type": "code",
   "execution_count": null,
   "metadata": {},
   "outputs": [],
   "source": []
  }
 ],
 "metadata": {
  "kernelspec": {
   "display_name": "portfolio-rl",
   "language": "python",
   "name": "python3"
  },
  "language_info": {
   "codemirror_mode": {
    "name": "ipython",
    "version": 3
   },
   "file_extension": ".py",
   "mimetype": "text/x-python",
   "name": "python",
   "nbconvert_exporter": "python",
   "pygments_lexer": "ipython3",
   "version": "3.12.2"
  }
 },
 "nbformat": 4,
 "nbformat_minor": 2
}
