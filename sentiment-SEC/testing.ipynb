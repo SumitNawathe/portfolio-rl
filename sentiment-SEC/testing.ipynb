{
 "cells": [
  {
   "cell_type": "code",
   "execution_count": null,
   "metadata": {},
   "outputs": [],
   "source": [
    "from sec_edgar_downloader import Downloader\n",
    "import datetime\n",
    "import pandas as pd\n",
    "import nltk\n",
    "from nltk.sentiment.vader import SentimentIntensityAnalyzer\n",
    "from nltk.corpus import stopwords\n",
    "from nltk.tokenize import word_tokenize\n",
    "from nltk.stem import WordNetLemmatizer\n",
    "nltk.download('all')\n",
    "from bs4 import BeautifulSoup\n",
    "import re\n",
    "import pysentiment2\n",
    "import math"
   ]
  },
  {
   "cell_type": "code",
   "execution_count": 90,
   "metadata": {},
   "outputs": [
    {
     "data": {
      "text/plain": [
       "30"
      ]
     },
     "execution_count": 90,
     "metadata": {},
     "output_type": "execute_result"
    }
   ],
   "source": [
    "dl = Downloader(\"BUFN403\", \"sashvenk@terpmail.umd.edu\")\n",
    "\n",
    "dl.get(\"10-K\", \"MSFT\")"
   ]
  },
  {
   "cell_type": "code",
   "execution_count": 12,
   "metadata": {},
   "outputs": [
    {
     "name": "stdout",
     "output_type": "stream",
     "text": [
      "2017-08-01\n"
     ]
    }
   ],
   "source": [
    "print(pd.to_datetime(\"20170801163015\").date())"
   ]
  },
  {
   "cell_type": "code",
   "execution_count": 96,
   "metadata": {},
   "outputs": [],
   "source": [
    "def get_item_7_text(file_path):\n",
    "    with open(file_path, 'r', encoding='utf-8') as file:\n",
    "        raw_10k = file.read()\n",
    "    doc_start_pattern = re.compile(r'<DOCUMENT>')\n",
    "    doc_end_pattern = re.compile(r'</DOCUMENT>')\n",
    "    type_pattern = re.compile(r'<TYPE>[^\\n]+')\n",
    "    doc_start_is = [x.end() for x in doc_start_pattern.finditer(raw_10k)]\n",
    "    doc_end_is = [x.start() for x in doc_end_pattern.finditer(raw_10k)]\n",
    "\n",
    "    doc_types = [x[len('<TYPE>'):] for x in type_pattern.findall(raw_10k)]\n",
    "    document = {}\n",
    "\n",
    "    for doc_type, doc_start, doc_end in zip(doc_types, doc_start_is, doc_end_is):\n",
    "        if doc_type == '10-K':\n",
    "            document[doc_type] = raw_10k[doc_start:doc_end]\n",
    "\n",
    "    regex = re.compile(r'(>Item(\\s|&#160;|&nbsp;)(1A|1B|7A|7|8)\\.{0,1})|(ITEM\\s(1A|1B|7A|7|8))')\n",
    "\n",
    "    matches = regex.finditer(document['10-K'])\n",
    "    matches = regex.finditer(document['10-K'])\n",
    "    test_df = pd.DataFrame([(x.group(), x.start(), x.end()) for x in matches])\n",
    "\n",
    "    test_df.columns = ['item', 'start', 'end']\n",
    "    test_df['item'] = test_df.item.str.lower()\n",
    "    test_df.replace('&#160;',' ',regex=True,inplace=True)\n",
    "    test_df.replace('&nbsp;',' ',regex=True,inplace=True)\n",
    "    test_df.replace(' ','',regex=True,inplace=True)\n",
    "    test_df.replace('\\.','',regex=True,inplace=True)\n",
    "    test_df.replace('>','',regex=True,inplace=True)\n",
    "\n",
    "    pos_dat = test_df.sort_values('start', ascending=True).drop_duplicates(subset=['item'], keep='last')\n",
    "\n",
    "    pos_dat.set_index('item', inplace=True)\n",
    "\n",
    "    item_7_raw = document['10-K'][pos_dat['start'].loc['item7']:pos_dat['start'].loc['item8']]\n",
    "    item_7_content = BeautifulSoup(item_7_raw, 'lxml')\n",
    "    #print(item_1a_content.prettify()[0:1000])\n",
    "    return item_7_content.get_text(\"\\n\\n\")"
   ]
  },
  {
   "cell_type": "code",
   "execution_count": 97,
   "metadata": {},
   "outputs": [],
   "source": [
    "def sentiment(text):\n",
    "    s = SentimentIntensityAnalyzer()\n",
    "    return s.polarity_scores(text)"
   ]
  },
  {
   "cell_type": "code",
   "execution_count": 114,
   "metadata": {},
   "outputs": [
    {
     "data": {
      "text/plain": [
       "{'neg': 0.045, 'neu': 0.796, 'pos': 0.16, 'compound': 1.0}"
      ]
     },
     "execution_count": 114,
     "metadata": {},
     "output_type": "execute_result"
    }
   ],
   "source": [
    "sentiment(get_item_7_text(\"./sec-edgar-filings/MSFT/10-K/0001193125-10-171791/full-submission.txt\"))"
   ]
  },
  {
   "cell_type": "code",
   "execution_count": 111,
   "metadata": {},
   "outputs": [],
   "source": [
    "sen = SentimentIntensityAnalyzer()\n",
    "with open(\"./sec-edgar-filings/MSFT/10-K/0000891020-94-000175/full-submission.txt\", 'r', encoding='utf-8') as file:\n",
    "        temp = file.read()"
   ]
  },
  {
   "cell_type": "code",
   "execution_count": 112,
   "metadata": {},
   "outputs": [
    {
     "data": {
      "text/plain": [
       "0.9223343401174541"
      ]
     },
     "execution_count": 112,
     "metadata": {},
     "output_type": "execute_result"
    }
   ],
   "source": [
    "s_d = sen.polarity_scores(temp)\n",
    "math.tanh(math.log(s_d['pos']/s_d['neg'])/s_d['neu'])"
   ]
  },
  {
   "cell_type": "code",
   "execution_count": 115,
   "metadata": {},
   "outputs": [
    {
     "data": {
      "text/plain": [
       "{'neg': 0.049, 'neu': 0.792, 'pos': 0.159, 'compound': 1.0}"
      ]
     },
     "execution_count": 115,
     "metadata": {},
     "output_type": "execute_result"
    }
   ],
   "source": [
    "sentiment(get_item_7_text(\"./sec-edgar-filings/MSFT/10-K/0001193125-09-158735/full-submission.txt\"))"
   ]
  },
  {
   "cell_type": "code",
   "execution_count": 121,
   "metadata": {},
   "outputs": [
    {
     "data": {
      "text/plain": [
       "{'neg': 0.053, 'neu': 0.812, 'pos': 0.135, 'compound': 1.0}"
      ]
     },
     "execution_count": 121,
     "metadata": {},
     "output_type": "execute_result"
    }
   ],
   "source": [
    "sentiment(get_item_7_text(\"./sec-edgar-filings/MSFT/10-K/0001193125-05-174825/full-submission.txt\"))"
   ]
  },
  {
   "cell_type": "code",
   "execution_count": 127,
   "metadata": {},
   "outputs": [
    {
     "data": {
      "text/plain": [
       "pandas.core.series.Series"
      ]
     },
     "execution_count": 127,
     "metadata": {},
     "output_type": "execute_result"
    }
   ],
   "source": [
    "tables = pd.read_html('https://en.wikipedia.org/wiki/S%26P_100')\n",
    "type(tables[2]['Symbol'])"
   ]
  },
  {
   "cell_type": "code",
   "execution_count": 128,
   "metadata": {},
   "outputs": [
    {
     "name": "stdout",
     "output_type": "stream",
     "text": [
      "AAPL\n",
      "ABBV\n",
      "ABT\n",
      "ACN\n",
      "ADBE\n",
      "AIG\n",
      "AMD\n",
      "AMGN\n",
      "AMT\n",
      "AMZN\n",
      "AVGO\n",
      "AXP\n",
      "BA\n",
      "BAC\n",
      "BK\n",
      "BKNG\n",
      "BLK\n",
      "BMY\n",
      "BRK.B\n",
      "C\n",
      "CAT\n",
      "CHTR\n",
      "CL\n",
      "CMCSA\n",
      "COF\n",
      "COP\n",
      "COST\n",
      "CRM\n",
      "CSCO\n",
      "CVS\n",
      "CVX\n",
      "DE\n",
      "DHR\n",
      "DIS\n",
      "DOW\n",
      "DUK\n",
      "EMR\n",
      "F\n",
      "FDX\n",
      "GD\n",
      "GE\n",
      "GILD\n",
      "GM\n",
      "GOOG\n",
      "GOOGL\n",
      "GS\n",
      "HD\n",
      "HON\n",
      "IBM\n",
      "INTC\n",
      "INTU\n",
      "JNJ\n",
      "JPM\n",
      "KHC\n",
      "KO\n",
      "LIN\n",
      "LLY\n",
      "LMT\n",
      "LOW\n",
      "MA\n",
      "MCD\n",
      "MDLZ\n",
      "MDT\n",
      "MET\n",
      "META\n",
      "MMM\n",
      "MO\n",
      "MRK\n",
      "MS\n",
      "MSFT\n",
      "NEE\n",
      "NFLX\n",
      "NKE\n",
      "NVDA\n",
      "ORCL\n",
      "PEP\n",
      "PFE\n",
      "PG\n",
      "PM\n",
      "PYPL\n",
      "QCOM\n",
      "RTX\n",
      "SBUX\n",
      "SCHW\n",
      "SO\n",
      "SPG\n",
      "T\n",
      "TGT\n",
      "TMO\n",
      "TMUS\n",
      "TSLA\n",
      "TXN\n",
      "UNH\n",
      "UNP\n",
      "UPS\n",
      "USB\n",
      "V\n",
      "VZ\n",
      "WFC\n",
      "WMT\n",
      "XOM\n"
     ]
    }
   ],
   "source": [
    "for i in tables[2]['Symbol']:\n",
    "    print(i)"
   ]
  }
 ],
 "metadata": {
  "kernelspec": {
   "display_name": "Python 3",
   "language": "python",
   "name": "python3"
  },
  "language_info": {
   "codemirror_mode": {
    "name": "ipython",
    "version": 3
   },
   "file_extension": ".py",
   "mimetype": "text/x-python",
   "name": "python",
   "nbconvert_exporter": "python",
   "pygments_lexer": "ipython3",
   "version": "3.8.8"
  }
 },
 "nbformat": 4,
 "nbformat_minor": 2
}
