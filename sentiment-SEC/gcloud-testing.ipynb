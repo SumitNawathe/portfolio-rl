{
 "cells": [
  {
   "cell_type": "code",
   "execution_count": 2,
   "metadata": {},
   "outputs": [],
   "source": [
    "import os\n",
    "from google.cloud import storage"
   ]
  },
  {
   "cell_type": "code",
   "execution_count": 3,
   "metadata": {},
   "outputs": [
    {
     "name": "stderr",
     "output_type": "stream",
     "text": [
      "Your browser has been opened to visit:\n",
      "\n",
      "    https://accounts.google.com/o/oauth2/auth?response_type=code&client_id=764086051850-6qr4p6gpi6hn506pt8ejuq83di341hur.apps.googleusercontent.com&redirect_uri=http%3A%2F%2Flocalhost%3A8085%2F&scope=openid+https%3A%2F%2Fwww.googleapis.com%2Fauth%2Fuserinfo.email+https%3A%2F%2Fwww.googleapis.com%2Fauth%2Fcloud-platform+https%3A%2F%2Fwww.googleapis.com%2Fauth%2Fsqlservice.login&state=wZ7yXYYevrViYhfIVi13WfdAfzi0fF&access_type=offline&code_challenge=Zd95Yl9G1hTnc-Q_PYGHDFg3kSHnWVZHpFbyYKZvvwA&code_challenge_method=S256\n",
      "\n",
      "\n",
      "Credentials saved to file: [/Users/sashwat/.config/gcloud/application_default_credentials.json]\n",
      "\n",
      "These credentials will be used by any library that requests Application Default Credentials (ADC).\n",
      "\n",
      "Quota project \"extreme-unison-419222\" was added to ADC which can be used by Google client libraries for billing and quota. Note that some services may still bill the project owning the resource.\n"
     ]
    },
    {
     "data": {
      "text/plain": [
       "0"
      ]
     },
     "execution_count": 3,
     "metadata": {},
     "output_type": "execute_result"
    }
   ],
   "source": [
    "os.system(\"gcloud auth application-default login\")"
   ]
  },
  {
   "cell_type": "code",
   "execution_count": 7,
   "metadata": {},
   "outputs": [],
   "source": [
    "from google.cloud import storage\n",
    "\n",
    "def download_blob(bucket_name, source_blob_name, destination_file_name):\n",
    "    storage_client = storage.Client()\n",
    "    bucket = storage_client.bucket(bucket_name)\n",
    "    blob = bucket.blob(source_blob_name)\n",
    "    blob.download_to_filename(destination_file_name)\n",
    "\n",
    "    print(\n",
    "        \"Downloaded storage object {} from bucket {} to local file {}.\".format(\n",
    "            source_blob_name, bucket_name, destination_file_name\n",
    "        )\n",
    "    )\n"
   ]
  },
  {
   "cell_type": "code",
   "execution_count": 3,
   "metadata": {},
   "outputs": [],
   "source": [
    "from google.cloud import storage\n",
    "\n",
    "def list_subdirectories(bucket_name, parent_directory):\n",
    "    \"\"\"Lists 'subdirectories' within a specified parent directory in the bucket.\"\"\"\n",
    "    storage_client = storage.Client()\n",
    "    if not parent_directory.endswith('/'):\n",
    "        parent_directory += '/'\n",
    "\n",
    "    bucket = storage_client.bucket(bucket_name)\n",
    "\n",
    "    iterator = bucket.list_blobs(prefix=parent_directory, delimiter='/')\n",
    "    subdirectories = set()\n",
    "\n",
    "    for page in iterator.pages:\n",
    "        subdirectories.update(page.prefixes)\n",
    "\n",
    "    return subdirectories\n",
    "\n"
   ]
  },
  {
   "cell_type": "code",
   "execution_count": 5,
   "metadata": {},
   "outputs": [],
   "source": [
    "def file_dl(ticker, year, filing='10-K'):\n",
    "    counter = 1\n",
    "    year = str(year)\n",
    "    year_new = year[2:4]\n",
    "    path = f'sec-edgar-filings/{ticker}/{filing}/'\n",
    "    if len(ticker) == 4:\n",
    "        dirs = list_subdirectories('portfolio-rl-edgar', path)\n",
    "        for i in dirs:\n",
    "            if i[39:41] == str(year_new):\n",
    "                #print(i)\n",
    "                download_blob(\"portfolio-rl-edgar\", i+\"full-submission.txt\", f\"{ticker}-{year_new}-{filing}-{counter}.txt\")\n",
    "                counter += 1\n",
    "    if len(ticker) == 3:\n",
    "        dirs = list_subdirectories('portfolio-rl-edgar', path)\n",
    "        for i in dirs:\n",
    "            if i[38:40] == str(year_new):\n",
    "                #print(i)\n",
    "                download_blob(\"portfolio-rl-edgar\", i+\"full-submission.txt\", f\"{ticker}-{year_new}-{filing}-{counter}.txt\")\n",
    "                counter += 1\n",
    "    if len(ticker) == 2:\n",
    "        dirs = list_subdirectories('portfolio-rl-edgar', path)\n",
    "        for i in dirs:\n",
    "            if i[37:39] == str(year_new):\n",
    "                #print(i)\n",
    "                download_blob(\"portfolio-rl-edgar\", i+\"full-submission.txt\", f\"{ticker}-{year_new}-{filing}-{counter}.txt\")\n",
    "                counter += 1\n",
    "    if len(ticker) == 1:\n",
    "        dirs = list_subdirectories('portfolio-rl-edgar', path)\n",
    "        for i in dirs:\n",
    "            if i[36:38] == str(year_new):\n",
    "                #print(i)\n",
    "                download_blob(\"portfolio-rl-edgar\", i+\"full-submission.txt\", f\"{ticker}-{year_new}-{filing}-{counter}.txt\")\n",
    "                counter += 1\n",
    "        \n",
    "    #11th and 12th characters are the year, 39:41 or 38:40\n",
    "    \n",
    "    return 0"
   ]
  },
  {
   "cell_type": "code",
   "execution_count": 17,
   "metadata": {},
   "outputs": [
    {
     "name": "stdout",
     "output_type": "stream",
     "text": [
      "Downloaded storage object sec-edgar-filings/ADBE/10-Q/0000796343-18-000160/full-submission.txt from bucket portfolio-rl-edgar to local file ADBE-18-10-Q-1.txt.\n",
      "Downloaded storage object sec-edgar-filings/ADBE/10-Q/0000796343-18-000134/full-submission.txt from bucket portfolio-rl-edgar to local file ADBE-18-10-Q-2.txt.\n",
      "Downloaded storage object sec-edgar-filings/ADBE/10-Q/0000796343-18-000065/full-submission.txt from bucket portfolio-rl-edgar to local file ADBE-18-10-Q-3.txt.\n"
     ]
    },
    {
     "data": {
      "text/plain": [
       "0"
      ]
     },
     "execution_count": 17,
     "metadata": {},
     "output_type": "execute_result"
    }
   ],
   "source": [
    "file_dl(\"ADBE\", 2018, \"10-Q\")"
   ]
  },
  {
   "cell_type": "code",
   "execution_count": 8,
   "metadata": {},
   "outputs": [
    {
     "name": "stdout",
     "output_type": "stream",
     "text": [
      "Downloaded storage object sec-edgar-filings/V/10-K/0001403161-16-000058/full-submission.txt from bucket portfolio-rl-edgar to local file V-16-10-K-1.txt.\n"
     ]
    },
    {
     "data": {
      "text/plain": [
       "0"
      ]
     },
     "execution_count": 8,
     "metadata": {},
     "output_type": "execute_result"
    }
   ],
   "source": [
    "file_dl(\"V\", 2016)"
   ]
  }
 ],
 "metadata": {
  "kernelspec": {
   "display_name": "Python 3",
   "language": "python",
   "name": "python3"
  },
  "language_info": {
   "codemirror_mode": {
    "name": "ipython",
    "version": 3
   },
   "file_extension": ".py",
   "mimetype": "text/x-python",
   "name": "python",
   "nbconvert_exporter": "python",
   "pygments_lexer": "ipython3",
   "version": "3.8.8"
  }
 },
 "nbformat": 4,
 "nbformat_minor": 2
}
