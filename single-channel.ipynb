{
 "cells": [
  {
   "cell_type": "code",
   "execution_count": null,
   "metadata": {},
   "outputs": [],
   "source": []
  },
  {
   "cell_type": "code",
   "execution_count": 1,
   "metadata": {},
   "outputs": [],
   "source": [
    "import numpy as np\n",
    "import pandas as pd\n",
    "import matplotlib.pyplot as plt\n",
    "import gymnasium as gym\n",
    "from stable_baselines3 import PPO\n",
    "from stable_baselines3.common.env_util import make_vec_env\n",
    "from stable_baselines3.common.callbacks import EvalCallback\n",
    "import stable_baselines3\n",
    "from portfolio_env_framework import *\n",
    "import random\n",
    "import torch\n",
    "import torch.nn as nn\n",
    "import torch.nn.functional as F\n",
    "import numpy.typing as npt\n",
    "import gymnasium as gym"
   ]
  },
  {
   "cell_type": "code",
   "execution_count": 2,
   "metadata": {},
   "outputs": [],
   "source": [
    "class ProfitReward(AbstractRewardManager):\n",
    "    def __init__(self):\n",
    "        pass\n",
    "\n",
    "    def initialize_reward(self):\n",
    "        pass\n",
    "\n",
    "    def compute_reward(self, old_port_val: float, new_port_val: float) -> float:\n",
    "        return new_port_val - old_port_val"
   ]
  },
  {
   "cell_type": "code",
   "execution_count": 3,
   "metadata": {},
   "outputs": [],
   "source": [
    "class TrainDataManager(AbstractDataManager):\n",
    "    def get_obs_space(self) -> gym.spaces.Box:\n",
    "        return gym.spaces.Dict({\n",
    "            'data': gym.spaces.Box(low=-np.inf, high=np.inf, shape=(self.universe_size, 6), dtype=np.float32),\n",
    "            'weights': gym.spaces.Box(low=0, high=1, shape=(self.universe_size+1,), dtype=np.float32)\n",
    "        })\n",
    "\n",
    "    def get_data(self) -> tuple[int, int]:\n",
    "        # read SNP data\n",
    "        df = pd.read_csv('crsp_snp100_2010_to_2024.csv', dtype='string')\n",
    "    \n",
    "        # convert datatypes\n",
    "        df = df[['date', 'TICKER', 'PRC', 'VOL', 'ASKHI', 'BIDLO', 'FACPR']]\n",
    "        df.date = pd.to_datetime(df.date)\n",
    "        df.FACPR = df.FACPR.fillna('0.0')\n",
    "        df.astype({\n",
    "            'PRC': float,\n",
    "            'VOL': float,\n",
    "            'ASKHI': float,\n",
    "            'BIDLO': float,\n",
    "            'FACPR': float\n",
    "        })\n",
    "    \n",
    "        # drop duplicates and nans\n",
    "        df = df.drop_duplicates(subset=['date', 'TICKER'])\n",
    "        df.dropna(inplace=True)\n",
    "    \n",
    "        # only include stocks that are present in all dates\n",
    "        lst = ['AAPL', 'AMD', 'AMZN', 'IBM',]\n",
    "        ticker_ok = df.TICKER.value_counts() == df.TICKER.value_counts().max()\n",
    "        def is_max_val_count(ticker: str) -> bool:\n",
    "          return ticker_ok[ticker] and (ticker in lst)\n",
    "        ok = df.apply(lambda row: is_max_val_count(row['TICKER']), axis=1)\n",
    "        df = df[ok]\n",
    "        df = df[(df.date.dt.year >= 2010) & (df.date.dt.year <= 2019)]\n",
    "    \n",
    "        # create stock array\n",
    "        self.stock_df = df.pivot(index='date', columns='TICKER', values='PRC').astype(float)\n",
    "        self.high_df = df.pivot(index='date', columns='TICKER', values='ASKHI').astype(float)\n",
    "        self.low_df = df.pivot(index='date', columns='TICKER', values='BIDLO').astype(float)\n",
    "        \n",
    "        # adjust for stock splits\n",
    "        facpr_df = df.pivot(index='date', columns='TICKER', values='FACPR').astype(float)\n",
    "        self.stock_df = self.stock_df * (1+facpr_df).cumprod(axis=0)\n",
    "        self.high_df = self.high_df * (1+facpr_df).cumprod(axis=0)\n",
    "        self.low_df = self.low_df * (1+facpr_df).cumprod(axis=0)\n",
    "        self.ret = np.log(self.stock_df.pct_change().iloc[1:, :] + 1)\n",
    "    \n",
    "        # get times and dickers\n",
    "        self.times = df.date.unique()[1:]\n",
    "        self.tickers = df.TICKER.unique()\n",
    "        \n",
    "        self.num_time_periods = len(self.times)-15-1\n",
    "        self.universe_size = len(self.tickers)\n",
    "        print(f\"{self.universe_size=}\")\n",
    "        return self.num_time_periods, self.universe_size\n",
    "    \n",
    "    def get_state(self, t: int, w: npt.NDArray[np.float64], port_val: np.float64) -> npt.NDArray[np.float64]:\n",
    "        # today is self.times[self.t+15]\n",
    "        s = np.random.rand(self.universe_size, 6)\n",
    "        # s = np.zeros((self.universe_size, 6))\n",
    "        s[:, 1:] = self.stock_df.loc[self.times[t:t+5], :].to_numpy().T\n",
    "        # s[:, 3:] = np.random.rand(self.universe_size, 3)\n",
    "        s[:, 0] = np.linspace(0, 1, self.universe_size)\n",
    "        return {'data': s, 'weights': w}\n",
    "\n",
    "    def get_prices(self, t: int) -> npt.NDArray[np.float64]:\n",
    "        # today is self.times[self.t+3]\n",
    "        return np.append(self.stock_df.loc[self.times[t+3], :].to_numpy().flatten(), 1.0)"
   ]
  },
  {
   "cell_type": "code",
   "execution_count": 4,
   "metadata": {},
   "outputs": [],
   "source": [
    "from stable_baselines3.common.torch_layers import BaseFeaturesExtractor\n",
    "\n",
    "class Custom_EIEE_CNN_Extractor(BaseFeaturesExtractor):\n",
    "    def __init__(self, observation_space: gym.spaces.Dict, features_dim: int = 37):\n",
    "        super(Custom_EIEE_CNN_Extractor, self).__init__(observation_space, features_dim)\n",
    "        self.universe_size, data_len = observation_space['data'].shape\n",
    "        self.cnn = nn.Sequential(\n",
    "            nn.Conv2d(1, 2, kernel_size=(1, 3)),\n",
    "            nn.ReLU(),\n",
    "            nn.Conv2d(2, 4, kernel_size=(1, 3))\n",
    "        ).cuda()\n",
    "\n",
    "    def forward(self, observations: dict[str, torch.Tensor]) -> torch.Tensor:\n",
    "        # print(f\"{observations['data'][:, None, :, :].shape=}\")\n",
    "        x = self.cnn(observations['data'][:, None, :, :])\n",
    "        # print(f\"post cnn {x.shape=}, {observations['weights'].shape=}\")\n",
    "        # x = torch.hstack([x.flatten(start_dim=1), observations['weights']])\n",
    "        # return x.flatten(start_dim=1)\n",
    "        # print(f\"{x.flatten(start_dim=1).shape=}, {observations['weights'].flatten(start_dim=1).shape=}\")\n",
    "        return torch.cat((x.flatten(start_dim=1), observations['weights'].flatten(start_dim=1)), dim=1)"
   ]
  },
  {
   "cell_type": "code",
   "execution_count": 5,
   "metadata": {},
   "outputs": [
    {
     "name": "stdout",
     "output_type": "stream",
     "text": [
      "self.universe_size=4\n",
      "Using cuda device\n",
      "Wrapping the env with a `Monitor` wrapper\n",
      "Wrapping the env in a DummyVecEnv.\n"
     ]
    },
    {
     "name": "stderr",
     "output_type": "stream",
     "text": [
      "c:\\Users\\sumit\\GitRepos\\portfolio-rl\\portfolio_env_framework.py:135: RuntimeWarning: overflow encountered in scalar multiply\n",
      "  self.new_port_val = self.port_val * self.mu * (self.y @ self.w)\n"
     ]
    },
    {
     "name": "stdout",
     "output_type": "stream",
     "text": [
      "----------------------------------\n",
      "| rollout/           |           |\n",
      "|    ep_len_mean     | 2.5e+03   |\n",
      "|    ep_rew_mean     | -1.27e+05 |\n",
      "| time/              |           |\n",
      "|    episodes        | 1         |\n",
      "|    fps             | 109       |\n",
      "|    time_elapsed    | 22        |\n",
      "|    total_timesteps | 2499      |\n",
      "| train/             |           |\n",
      "|    actor_loss      | 887       |\n",
      "|    critic_loss     | 184       |\n",
      "|    learning_rate   | 0.001     |\n",
      "|    n_updates       | 2398      |\n",
      "----------------------------------\n"
     ]
    },
    {
     "name": "stderr",
     "output_type": "stream",
     "text": [
      "c:\\Users\\sumit\\GitRepos\\portfolio-rl\\portfolio_env_framework.py:135: RuntimeWarning: overflow encountered in scalar multiply\n",
      "  self.new_port_val = self.port_val * self.mu * (self.y @ self.w)\n"
     ]
    },
    {
     "name": "stdout",
     "output_type": "stream",
     "text": [
      "----------------------------------\n",
      "| rollout/           |           |\n",
      "|    ep_len_mean     | 2.5e+03   |\n",
      "|    ep_rew_mean     | -1.25e+05 |\n",
      "| time/              |           |\n",
      "|    episodes        | 2         |\n",
      "|    fps             | 109       |\n",
      "|    time_elapsed    | 45        |\n",
      "|    total_timesteps | 4998      |\n",
      "| train/             |           |\n",
      "|    actor_loss      | 1.36e+03  |\n",
      "|    critic_loss     | 272       |\n",
      "|    learning_rate   | 0.001     |\n",
      "|    n_updates       | 4897      |\n",
      "----------------------------------\n"
     ]
    },
    {
     "name": "stderr",
     "output_type": "stream",
     "text": [
      "c:\\Users\\sumit\\GitRepos\\portfolio-rl\\portfolio_env_framework.py:135: RuntimeWarning: overflow encountered in scalar multiply\n",
      "  self.new_port_val = self.port_val * self.mu * (self.y @ self.w)\n"
     ]
    },
    {
     "name": "stdout",
     "output_type": "stream",
     "text": [
      "----------------------------------\n",
      "| rollout/           |           |\n",
      "|    ep_len_mean     | 2.5e+03   |\n",
      "|    ep_rew_mean     | -1.24e+05 |\n",
      "| time/              |           |\n",
      "|    episodes        | 3         |\n",
      "|    fps             | 107       |\n",
      "|    time_elapsed    | 69        |\n",
      "|    total_timesteps | 7497      |\n",
      "| train/             |           |\n",
      "|    actor_loss      | 1.75e+03  |\n",
      "|    critic_loss     | 1.13e+03  |\n",
      "|    learning_rate   | 0.001     |\n",
      "|    n_updates       | 7396      |\n",
      "----------------------------------\n"
     ]
    },
    {
     "name": "stderr",
     "output_type": "stream",
     "text": [
      "c:\\Users\\sumit\\GitRepos\\portfolio-rl\\portfolio_env_framework.py:135: RuntimeWarning: overflow encountered in scalar multiply\n",
      "  self.new_port_val = self.port_val * self.mu * (self.y @ self.w)\n"
     ]
    },
    {
     "name": "stdout",
     "output_type": "stream",
     "text": [
      "----------------------------------\n",
      "| rollout/           |           |\n",
      "|    ep_len_mean     | 2.5e+03   |\n",
      "|    ep_rew_mean     | -1.24e+05 |\n",
      "| time/              |           |\n",
      "|    episodes        | 4         |\n",
      "|    fps             | 107       |\n",
      "|    time_elapsed    | 93        |\n",
      "|    total_timesteps | 9996      |\n",
      "| train/             |           |\n",
      "|    actor_loss      | 2.13e+03  |\n",
      "|    critic_loss     | 590       |\n",
      "|    learning_rate   | 0.001     |\n",
      "|    n_updates       | 9895      |\n",
      "----------------------------------\n"
     ]
    },
    {
     "name": "stderr",
     "output_type": "stream",
     "text": [
      "c:\\Users\\sumit\\GitRepos\\portfolio-rl\\portfolio_env_framework.py:135: RuntimeWarning: overflow encountered in scalar multiply\n",
      "  self.new_port_val = self.port_val * self.mu * (self.y @ self.w)\n"
     ]
    },
    {
     "name": "stdout",
     "output_type": "stream",
     "text": [
      "----------------------------------\n",
      "| rollout/           |           |\n",
      "|    ep_len_mean     | 2.5e+03   |\n",
      "|    ep_rew_mean     | -1.24e+05 |\n",
      "| time/              |           |\n",
      "|    episodes        | 5         |\n",
      "|    fps             | 106       |\n",
      "|    time_elapsed    | 116       |\n",
      "|    total_timesteps | 12495     |\n",
      "| train/             |           |\n",
      "|    actor_loss      | 2.45e+03  |\n",
      "|    critic_loss     | 615       |\n",
      "|    learning_rate   | 0.001     |\n",
      "|    n_updates       | 12394     |\n",
      "----------------------------------\n"
     ]
    },
    {
     "name": "stderr",
     "output_type": "stream",
     "text": [
      "c:\\Users\\sumit\\GitRepos\\portfolio-rl\\portfolio_env_framework.py:135: RuntimeWarning: overflow encountered in scalar multiply\n",
      "  self.new_port_val = self.port_val * self.mu * (self.y @ self.w)\n"
     ]
    },
    {
     "name": "stdout",
     "output_type": "stream",
     "text": [
      "----------------------------------\n",
      "| rollout/           |           |\n",
      "|    ep_len_mean     | 2.5e+03   |\n",
      "|    ep_rew_mean     | -1.23e+05 |\n",
      "| time/              |           |\n",
      "|    episodes        | 6         |\n",
      "|    fps             | 107       |\n",
      "|    time_elapsed    | 139       |\n",
      "|    total_timesteps | 14994     |\n",
      "| train/             |           |\n",
      "|    actor_loss      | 2.7e+03   |\n",
      "|    critic_loss     | 1.08e+03  |\n",
      "|    learning_rate   | 0.001     |\n",
      "|    n_updates       | 14893     |\n",
      "----------------------------------\n"
     ]
    },
    {
     "name": "stderr",
     "output_type": "stream",
     "text": [
      "c:\\Users\\sumit\\GitRepos\\portfolio-rl\\portfolio_env_framework.py:135: RuntimeWarning: overflow encountered in scalar multiply\n",
      "  self.new_port_val = self.port_val * self.mu * (self.y @ self.w)\n"
     ]
    },
    {
     "name": "stdout",
     "output_type": "stream",
     "text": [
      "----------------------------------\n",
      "| rollout/           |           |\n",
      "|    ep_len_mean     | 2.5e+03   |\n",
      "|    ep_rew_mean     | -1.23e+05 |\n",
      "| time/              |           |\n",
      "|    episodes        | 7         |\n",
      "|    fps             | 106       |\n",
      "|    time_elapsed    | 164       |\n",
      "|    total_timesteps | 17493     |\n",
      "| train/             |           |\n",
      "|    actor_loss      | 2.98e+03  |\n",
      "|    critic_loss     | 1.12e+03  |\n",
      "|    learning_rate   | 0.001     |\n",
      "|    n_updates       | 17392     |\n",
      "----------------------------------\n"
     ]
    },
    {
     "name": "stderr",
     "output_type": "stream",
     "text": [
      "c:\\Users\\sumit\\GitRepos\\portfolio-rl\\portfolio_env_framework.py:135: RuntimeWarning: overflow encountered in scalar multiply\n",
      "  self.new_port_val = self.port_val * self.mu * (self.y @ self.w)\n"
     ]
    },
    {
     "name": "stdout",
     "output_type": "stream",
     "text": [
      "----------------------------------\n",
      "| rollout/           |           |\n",
      "|    ep_len_mean     | 2.5e+03   |\n",
      "|    ep_rew_mean     | -1.23e+05 |\n",
      "| time/              |           |\n",
      "|    episodes        | 8         |\n",
      "|    fps             | 105       |\n",
      "|    time_elapsed    | 188       |\n",
      "|    total_timesteps | 19992     |\n",
      "| train/             |           |\n",
      "|    actor_loss      | 3.21e+03  |\n",
      "|    critic_loss     | 995       |\n",
      "|    learning_rate   | 0.001     |\n",
      "|    n_updates       | 19891     |\n",
      "----------------------------------\n"
     ]
    },
    {
     "name": "stderr",
     "output_type": "stream",
     "text": [
      "c:\\Users\\sumit\\GitRepos\\portfolio-rl\\portfolio_env_framework.py:135: RuntimeWarning: overflow encountered in scalar multiply\n",
      "  self.new_port_val = self.port_val * self.mu * (self.y @ self.w)\n"
     ]
    },
    {
     "name": "stdout",
     "output_type": "stream",
     "text": [
      "----------------------------------\n",
      "| rollout/           |           |\n",
      "|    ep_len_mean     | 2.5e+03   |\n",
      "|    ep_rew_mean     | -1.23e+05 |\n",
      "| time/              |           |\n",
      "|    episodes        | 9         |\n",
      "|    fps             | 105       |\n",
      "|    time_elapsed    | 212       |\n",
      "|    total_timesteps | 22491     |\n",
      "| train/             |           |\n",
      "|    actor_loss      | 3.45e+03  |\n",
      "|    critic_loss     | 1.75e+03  |\n",
      "|    learning_rate   | 0.001     |\n",
      "|    n_updates       | 22390     |\n",
      "----------------------------------\n"
     ]
    },
    {
     "name": "stderr",
     "output_type": "stream",
     "text": [
      "c:\\Users\\sumit\\GitRepos\\portfolio-rl\\portfolio_env_framework.py:135: RuntimeWarning: overflow encountered in scalar multiply\n",
      "  self.new_port_val = self.port_val * self.mu * (self.y @ self.w)\n"
     ]
    },
    {
     "name": "stdout",
     "output_type": "stream",
     "text": [
      "----------------------------------\n",
      "| rollout/           |           |\n",
      "|    ep_len_mean     | 2.5e+03   |\n",
      "|    ep_rew_mean     | -1.23e+05 |\n",
      "| time/              |           |\n",
      "|    episodes        | 10        |\n",
      "|    fps             | 105       |\n",
      "|    time_elapsed    | 236       |\n",
      "|    total_timesteps | 24990     |\n",
      "| train/             |           |\n",
      "|    actor_loss      | 3.63e+03  |\n",
      "|    critic_loss     | 1.18e+03  |\n",
      "|    learning_rate   | 0.001     |\n",
      "|    n_updates       | 24889     |\n",
      "----------------------------------\n"
     ]
    },
    {
     "name": "stderr",
     "output_type": "stream",
     "text": [
      "c:\\Users\\sumit\\GitRepos\\portfolio-rl\\portfolio_env_framework.py:135: RuntimeWarning: overflow encountered in scalar multiply\n",
      "  self.new_port_val = self.port_val * self.mu * (self.y @ self.w)\n"
     ]
    },
    {
     "name": "stdout",
     "output_type": "stream",
     "text": [
      "----------------------------------\n",
      "| rollout/           |           |\n",
      "|    ep_len_mean     | 2.5e+03   |\n",
      "|    ep_rew_mean     | -1.23e+05 |\n",
      "| time/              |           |\n",
      "|    episodes        | 11        |\n",
      "|    fps             | 105       |\n",
      "|    time_elapsed    | 261       |\n",
      "|    total_timesteps | 27489     |\n",
      "| train/             |           |\n",
      "|    actor_loss      | 3.82e+03  |\n",
      "|    critic_loss     | 2.6e+03   |\n",
      "|    learning_rate   | 0.001     |\n",
      "|    n_updates       | 27388     |\n",
      "----------------------------------\n"
     ]
    },
    {
     "name": "stderr",
     "output_type": "stream",
     "text": [
      "c:\\Users\\sumit\\GitRepos\\portfolio-rl\\portfolio_env_framework.py:135: RuntimeWarning: overflow encountered in scalar multiply\n",
      "  self.new_port_val = self.port_val * self.mu * (self.y @ self.w)\n"
     ]
    },
    {
     "name": "stdout",
     "output_type": "stream",
     "text": [
      "----------------------------------\n",
      "| rollout/           |           |\n",
      "|    ep_len_mean     | 2.5e+03   |\n",
      "|    ep_rew_mean     | -1.23e+05 |\n",
      "| time/              |           |\n",
      "|    episodes        | 12        |\n",
      "|    fps             | 105       |\n",
      "|    time_elapsed    | 284       |\n",
      "|    total_timesteps | 29988     |\n",
      "| train/             |           |\n",
      "|    actor_loss      | 3.95e+03  |\n",
      "|    critic_loss     | 1.08e+03  |\n",
      "|    learning_rate   | 0.001     |\n",
      "|    n_updates       | 29887     |\n",
      "----------------------------------\n"
     ]
    },
    {
     "name": "stderr",
     "output_type": "stream",
     "text": [
      "c:\\Users\\sumit\\GitRepos\\portfolio-rl\\portfolio_env_framework.py:135: RuntimeWarning: overflow encountered in scalar multiply\n",
      "  self.new_port_val = self.port_val * self.mu * (self.y @ self.w)\n"
     ]
    },
    {
     "name": "stdout",
     "output_type": "stream",
     "text": [
      "----------------------------------\n",
      "| rollout/           |           |\n",
      "|    ep_len_mean     | 2.5e+03   |\n",
      "|    ep_rew_mean     | -1.23e+05 |\n",
      "| time/              |           |\n",
      "|    episodes        | 13        |\n",
      "|    fps             | 104       |\n",
      "|    time_elapsed    | 310       |\n",
      "|    total_timesteps | 32487     |\n",
      "| train/             |           |\n",
      "|    actor_loss      | 4.2e+03   |\n",
      "|    critic_loss     | 1.89e+03  |\n",
      "|    learning_rate   | 0.001     |\n",
      "|    n_updates       | 32386     |\n",
      "----------------------------------\n"
     ]
    },
    {
     "name": "stderr",
     "output_type": "stream",
     "text": [
      "c:\\Users\\sumit\\GitRepos\\portfolio-rl\\portfolio_env_framework.py:135: RuntimeWarning: overflow encountered in scalar multiply\n",
      "  self.new_port_val = self.port_val * self.mu * (self.y @ self.w)\n"
     ]
    },
    {
     "name": "stdout",
     "output_type": "stream",
     "text": [
      "----------------------------------\n",
      "| rollout/           |           |\n",
      "|    ep_len_mean     | 2.5e+03   |\n",
      "|    ep_rew_mean     | -1.23e+05 |\n",
      "| time/              |           |\n",
      "|    episodes        | 14        |\n",
      "|    fps             | 104       |\n",
      "|    time_elapsed    | 334       |\n",
      "|    total_timesteps | 34986     |\n",
      "| train/             |           |\n",
      "|    actor_loss      | 4.3e+03   |\n",
      "|    critic_loss     | 1.74e+03  |\n",
      "|    learning_rate   | 0.001     |\n",
      "|    n_updates       | 34885     |\n",
      "----------------------------------\n"
     ]
    },
    {
     "name": "stderr",
     "output_type": "stream",
     "text": [
      "c:\\Users\\sumit\\GitRepos\\portfolio-rl\\portfolio_env_framework.py:135: RuntimeWarning: overflow encountered in scalar multiply\n",
      "  self.new_port_val = self.port_val * self.mu * (self.y @ self.w)\n"
     ]
    },
    {
     "name": "stdout",
     "output_type": "stream",
     "text": [
      "----------------------------------\n",
      "| rollout/           |           |\n",
      "|    ep_len_mean     | 2.5e+03   |\n",
      "|    ep_rew_mean     | -1.23e+05 |\n",
      "| time/              |           |\n",
      "|    episodes        | 15        |\n",
      "|    fps             | 103       |\n",
      "|    time_elapsed    | 363       |\n",
      "|    total_timesteps | 37485     |\n",
      "| train/             |           |\n",
      "|    actor_loss      | 4.34e+03  |\n",
      "|    critic_loss     | 1.84e+03  |\n",
      "|    learning_rate   | 0.001     |\n",
      "|    n_updates       | 37384     |\n",
      "----------------------------------\n"
     ]
    },
    {
     "name": "stderr",
     "output_type": "stream",
     "text": [
      "c:\\Users\\sumit\\GitRepos\\portfolio-rl\\portfolio_env_framework.py:135: RuntimeWarning: overflow encountered in scalar multiply\n",
      "  self.new_port_val = self.port_val * self.mu * (self.y @ self.w)\n"
     ]
    },
    {
     "name": "stdout",
     "output_type": "stream",
     "text": [
      "----------------------------------\n",
      "| rollout/           |           |\n",
      "|    ep_len_mean     | 2.5e+03   |\n",
      "|    ep_rew_mean     | -1.23e+05 |\n",
      "| time/              |           |\n",
      "|    episodes        | 16        |\n",
      "|    fps             | 102       |\n",
      "|    time_elapsed    | 389       |\n",
      "|    total_timesteps | 39984     |\n",
      "| train/             |           |\n",
      "|    actor_loss      | 4.47e+03  |\n",
      "|    critic_loss     | 1.19e+03  |\n",
      "|    learning_rate   | 0.001     |\n",
      "|    n_updates       | 39883     |\n",
      "----------------------------------\n"
     ]
    },
    {
     "name": "stderr",
     "output_type": "stream",
     "text": [
      "c:\\Users\\sumit\\GitRepos\\portfolio-rl\\portfolio_env_framework.py:135: RuntimeWarning: overflow encountered in scalar multiply\n",
      "  self.new_port_val = self.port_val * self.mu * (self.y @ self.w)\n"
     ]
    },
    {
     "name": "stdout",
     "output_type": "stream",
     "text": [
      "----------------------------------\n",
      "| rollout/           |           |\n",
      "|    ep_len_mean     | 2.5e+03   |\n",
      "|    ep_rew_mean     | -1.23e+05 |\n",
      "| time/              |           |\n",
      "|    episodes        | 17        |\n",
      "|    fps             | 102       |\n",
      "|    time_elapsed    | 413       |\n",
      "|    total_timesteps | 42483     |\n",
      "| train/             |           |\n",
      "|    actor_loss      | 4.7e+03   |\n",
      "|    critic_loss     | 1.08e+03  |\n",
      "|    learning_rate   | 0.001     |\n",
      "|    n_updates       | 42382     |\n",
      "----------------------------------\n"
     ]
    },
    {
     "name": "stderr",
     "output_type": "stream",
     "text": [
      "c:\\Users\\sumit\\GitRepos\\portfolio-rl\\portfolio_env_framework.py:135: RuntimeWarning: overflow encountered in scalar multiply\n",
      "  self.new_port_val = self.port_val * self.mu * (self.y @ self.w)\n"
     ]
    },
    {
     "name": "stdout",
     "output_type": "stream",
     "text": [
      "----------------------------------\n",
      "| rollout/           |           |\n",
      "|    ep_len_mean     | 2.5e+03   |\n",
      "|    ep_rew_mean     | -1.23e+05 |\n",
      "| time/              |           |\n",
      "|    episodes        | 18        |\n",
      "|    fps             | 102       |\n",
      "|    time_elapsed    | 439       |\n",
      "|    total_timesteps | 44982     |\n",
      "| train/             |           |\n",
      "|    actor_loss      | 4.75e+03  |\n",
      "|    critic_loss     | 1e+03     |\n",
      "|    learning_rate   | 0.001     |\n",
      "|    n_updates       | 44881     |\n",
      "----------------------------------\n"
     ]
    },
    {
     "name": "stderr",
     "output_type": "stream",
     "text": [
      "c:\\Users\\sumit\\GitRepos\\portfolio-rl\\portfolio_env_framework.py:135: RuntimeWarning: overflow encountered in scalar multiply\n",
      "  self.new_port_val = self.port_val * self.mu * (self.y @ self.w)\n"
     ]
    },
    {
     "name": "stdout",
     "output_type": "stream",
     "text": [
      "----------------------------------\n",
      "| rollout/           |           |\n",
      "|    ep_len_mean     | 2.5e+03   |\n",
      "|    ep_rew_mean     | -1.23e+05 |\n",
      "| time/              |           |\n",
      "|    episodes        | 19        |\n",
      "|    fps             | 101       |\n",
      "|    time_elapsed    | 467       |\n",
      "|    total_timesteps | 47481     |\n",
      "| train/             |           |\n",
      "|    actor_loss      | 4.96e+03  |\n",
      "|    critic_loss     | 908       |\n",
      "|    learning_rate   | 0.001     |\n",
      "|    n_updates       | 47380     |\n",
      "----------------------------------\n"
     ]
    },
    {
     "name": "stderr",
     "output_type": "stream",
     "text": [
      "c:\\Users\\sumit\\GitRepos\\portfolio-rl\\portfolio_env_framework.py:135: RuntimeWarning: overflow encountered in scalar multiply\n",
      "  self.new_port_val = self.port_val * self.mu * (self.y @ self.w)\n"
     ]
    },
    {
     "name": "stdout",
     "output_type": "stream",
     "text": [
      "----------------------------------\n",
      "| rollout/           |           |\n",
      "|    ep_len_mean     | 2.5e+03   |\n",
      "|    ep_rew_mean     | -1.23e+05 |\n",
      "| time/              |           |\n",
      "|    episodes        | 20        |\n",
      "|    fps             | 101       |\n",
      "|    time_elapsed    | 492       |\n",
      "|    total_timesteps | 49980     |\n",
      "| train/             |           |\n",
      "|    actor_loss      | 5.05e+03  |\n",
      "|    critic_loss     | 734       |\n",
      "|    learning_rate   | 0.001     |\n",
      "|    n_updates       | 49879     |\n",
      "----------------------------------\n"
     ]
    },
    {
     "name": "stderr",
     "output_type": "stream",
     "text": [
      "c:\\Users\\sumit\\GitRepos\\portfolio-rl\\portfolio_env_framework.py:135: RuntimeWarning: overflow encountered in scalar multiply\n",
      "  self.new_port_val = self.port_val * self.mu * (self.y @ self.w)\n"
     ]
    },
    {
     "name": "stdout",
     "output_type": "stream",
     "text": [
      "----------------------------------\n",
      "| rollout/           |           |\n",
      "|    ep_len_mean     | 2.5e+03   |\n",
      "|    ep_rew_mean     | -1.23e+05 |\n",
      "| time/              |           |\n",
      "|    episodes        | 21        |\n",
      "|    fps             | 101       |\n",
      "|    time_elapsed    | 519       |\n",
      "|    total_timesteps | 52479     |\n",
      "| train/             |           |\n",
      "|    actor_loss      | 5.06e+03  |\n",
      "|    critic_loss     | 1.74e+03  |\n",
      "|    learning_rate   | 0.001     |\n",
      "|    n_updates       | 52378     |\n",
      "----------------------------------\n"
     ]
    },
    {
     "name": "stderr",
     "output_type": "stream",
     "text": [
      "c:\\Users\\sumit\\GitRepos\\portfolio-rl\\portfolio_env_framework.py:135: RuntimeWarning: overflow encountered in scalar multiply\n",
      "  self.new_port_val = self.port_val * self.mu * (self.y @ self.w)\n"
     ]
    },
    {
     "ename": "KeyboardInterrupt",
     "evalue": "",
     "output_type": "error",
     "traceback": [
      "\u001b[1;31m---------------------------------------------------------------------------\u001b[0m",
      "\u001b[1;31mKeyboardInterrupt\u001b[0m                         Traceback (most recent call last)",
      "Cell \u001b[1;32mIn[5], line 16\u001b[0m\n\u001b[0;32m     11\u001b[0m torch\u001b[38;5;241m.\u001b[39mmanual_seed(\u001b[38;5;241m42\u001b[39m)\n\u001b[0;32m     13\u001b[0m model \u001b[38;5;241m=\u001b[39m DDPG(\u001b[38;5;124m'\u001b[39m\u001b[38;5;124mMultiInputPolicy\u001b[39m\u001b[38;5;124m'\u001b[39m, train_env, buffer_size\u001b[38;5;241m=\u001b[39m\u001b[38;5;241m5\u001b[39m\u001b[38;5;241m*\u001b[39m\u001b[38;5;241m10\u001b[39m\u001b[38;5;241m*\u001b[39m\u001b[38;5;241m*\u001b[39m\u001b[38;5;241m7\u001b[39m, verbose\u001b[38;5;241m=\u001b[39m\u001b[38;5;241m1\u001b[39m, policy_kwargs\u001b[38;5;241m=\u001b[39m{\n\u001b[0;32m     14\u001b[0m   \u001b[38;5;124m'\u001b[39m\u001b[38;5;124mfeatures_extractor_class\u001b[39m\u001b[38;5;124m'\u001b[39m: Custom_EIEE_CNN_Extractor,\n\u001b[0;32m     15\u001b[0m }, action_noise\u001b[38;5;241m=\u001b[39mNormalActionNoise(mean\u001b[38;5;241m=\u001b[39m\u001b[38;5;241m0\u001b[39m, sigma\u001b[38;5;241m=\u001b[39m\u001b[38;5;241m0.02\u001b[39m\u001b[38;5;241m*\u001b[39mnp\u001b[38;5;241m.\u001b[39mones(\u001b[38;5;241m5\u001b[39m)))\n\u001b[1;32m---> 16\u001b[0m \u001b[43mmodel\u001b[49m\u001b[38;5;241;43m.\u001b[39;49m\u001b[43mlearn\u001b[49m\u001b[43m(\u001b[49m\u001b[43mtotal_timesteps\u001b[49m\u001b[38;5;241;43m=\u001b[39;49m\u001b[38;5;241;43m10\u001b[39;49m\u001b[38;5;241;43m*\u001b[39;49m\u001b[38;5;241;43m*\u001b[39;49m\u001b[38;5;241;43m10\u001b[39;49m\u001b[43m,\u001b[49m\u001b[43m \u001b[49m\u001b[43mlog_interval\u001b[49m\u001b[38;5;241;43m=\u001b[39;49m\u001b[38;5;241;43m1\u001b[39;49m\u001b[43m)\u001b[49m\n",
      "File \u001b[1;32mc:\\Users\\sumit\\GitRepos\\portfolio-rl\\venv\\Lib\\site-packages\\stable_baselines3\\ddpg\\ddpg.py:123\u001b[0m, in \u001b[0;36mDDPG.learn\u001b[1;34m(self, total_timesteps, callback, log_interval, tb_log_name, reset_num_timesteps, progress_bar)\u001b[0m\n\u001b[0;32m    114\u001b[0m \u001b[38;5;28;01mdef\u001b[39;00m \u001b[38;5;21mlearn\u001b[39m(\n\u001b[0;32m    115\u001b[0m     \u001b[38;5;28mself\u001b[39m: SelfDDPG,\n\u001b[0;32m    116\u001b[0m     total_timesteps: \u001b[38;5;28mint\u001b[39m,\n\u001b[1;32m   (...)\u001b[0m\n\u001b[0;32m    121\u001b[0m     progress_bar: \u001b[38;5;28mbool\u001b[39m \u001b[38;5;241m=\u001b[39m \u001b[38;5;28;01mFalse\u001b[39;00m,\n\u001b[0;32m    122\u001b[0m ) \u001b[38;5;241m-\u001b[39m\u001b[38;5;241m>\u001b[39m SelfDDPG:\n\u001b[1;32m--> 123\u001b[0m     \u001b[38;5;28;01mreturn\u001b[39;00m \u001b[38;5;28;43msuper\u001b[39;49m\u001b[43m(\u001b[49m\u001b[43m)\u001b[49m\u001b[38;5;241;43m.\u001b[39;49m\u001b[43mlearn\u001b[49m\u001b[43m(\u001b[49m\n\u001b[0;32m    124\u001b[0m \u001b[43m        \u001b[49m\u001b[43mtotal_timesteps\u001b[49m\u001b[38;5;241;43m=\u001b[39;49m\u001b[43mtotal_timesteps\u001b[49m\u001b[43m,\u001b[49m\n\u001b[0;32m    125\u001b[0m \u001b[43m        \u001b[49m\u001b[43mcallback\u001b[49m\u001b[38;5;241;43m=\u001b[39;49m\u001b[43mcallback\u001b[49m\u001b[43m,\u001b[49m\n\u001b[0;32m    126\u001b[0m \u001b[43m        \u001b[49m\u001b[43mlog_interval\u001b[49m\u001b[38;5;241;43m=\u001b[39;49m\u001b[43mlog_interval\u001b[49m\u001b[43m,\u001b[49m\n\u001b[0;32m    127\u001b[0m \u001b[43m        \u001b[49m\u001b[43mtb_log_name\u001b[49m\u001b[38;5;241;43m=\u001b[39;49m\u001b[43mtb_log_name\u001b[49m\u001b[43m,\u001b[49m\n\u001b[0;32m    128\u001b[0m \u001b[43m        \u001b[49m\u001b[43mreset_num_timesteps\u001b[49m\u001b[38;5;241;43m=\u001b[39;49m\u001b[43mreset_num_timesteps\u001b[49m\u001b[43m,\u001b[49m\n\u001b[0;32m    129\u001b[0m \u001b[43m        \u001b[49m\u001b[43mprogress_bar\u001b[49m\u001b[38;5;241;43m=\u001b[39;49m\u001b[43mprogress_bar\u001b[49m\u001b[43m,\u001b[49m\n\u001b[0;32m    130\u001b[0m \u001b[43m    \u001b[49m\u001b[43m)\u001b[49m\n",
      "File \u001b[1;32mc:\\Users\\sumit\\GitRepos\\portfolio-rl\\venv\\Lib\\site-packages\\stable_baselines3\\td3\\td3.py:222\u001b[0m, in \u001b[0;36mTD3.learn\u001b[1;34m(self, total_timesteps, callback, log_interval, tb_log_name, reset_num_timesteps, progress_bar)\u001b[0m\n\u001b[0;32m    213\u001b[0m \u001b[38;5;28;01mdef\u001b[39;00m \u001b[38;5;21mlearn\u001b[39m(\n\u001b[0;32m    214\u001b[0m     \u001b[38;5;28mself\u001b[39m: SelfTD3,\n\u001b[0;32m    215\u001b[0m     total_timesteps: \u001b[38;5;28mint\u001b[39m,\n\u001b[1;32m   (...)\u001b[0m\n\u001b[0;32m    220\u001b[0m     progress_bar: \u001b[38;5;28mbool\u001b[39m \u001b[38;5;241m=\u001b[39m \u001b[38;5;28;01mFalse\u001b[39;00m,\n\u001b[0;32m    221\u001b[0m ) \u001b[38;5;241m-\u001b[39m\u001b[38;5;241m>\u001b[39m SelfTD3:\n\u001b[1;32m--> 222\u001b[0m     \u001b[38;5;28;01mreturn\u001b[39;00m \u001b[38;5;28;43msuper\u001b[39;49m\u001b[43m(\u001b[49m\u001b[43m)\u001b[49m\u001b[38;5;241;43m.\u001b[39;49m\u001b[43mlearn\u001b[49m\u001b[43m(\u001b[49m\n\u001b[0;32m    223\u001b[0m \u001b[43m        \u001b[49m\u001b[43mtotal_timesteps\u001b[49m\u001b[38;5;241;43m=\u001b[39;49m\u001b[43mtotal_timesteps\u001b[49m\u001b[43m,\u001b[49m\n\u001b[0;32m    224\u001b[0m \u001b[43m        \u001b[49m\u001b[43mcallback\u001b[49m\u001b[38;5;241;43m=\u001b[39;49m\u001b[43mcallback\u001b[49m\u001b[43m,\u001b[49m\n\u001b[0;32m    225\u001b[0m \u001b[43m        \u001b[49m\u001b[43mlog_interval\u001b[49m\u001b[38;5;241;43m=\u001b[39;49m\u001b[43mlog_interval\u001b[49m\u001b[43m,\u001b[49m\n\u001b[0;32m    226\u001b[0m \u001b[43m        \u001b[49m\u001b[43mtb_log_name\u001b[49m\u001b[38;5;241;43m=\u001b[39;49m\u001b[43mtb_log_name\u001b[49m\u001b[43m,\u001b[49m\n\u001b[0;32m    227\u001b[0m \u001b[43m        \u001b[49m\u001b[43mreset_num_timesteps\u001b[49m\u001b[38;5;241;43m=\u001b[39;49m\u001b[43mreset_num_timesteps\u001b[49m\u001b[43m,\u001b[49m\n\u001b[0;32m    228\u001b[0m \u001b[43m        \u001b[49m\u001b[43mprogress_bar\u001b[49m\u001b[38;5;241;43m=\u001b[39;49m\u001b[43mprogress_bar\u001b[49m\u001b[43m,\u001b[49m\n\u001b[0;32m    229\u001b[0m \u001b[43m    \u001b[49m\u001b[43m)\u001b[49m\n",
      "File \u001b[1;32mc:\\Users\\sumit\\GitRepos\\portfolio-rl\\venv\\Lib\\site-packages\\stable_baselines3\\common\\off_policy_algorithm.py:347\u001b[0m, in \u001b[0;36mOffPolicyAlgorithm.learn\u001b[1;34m(self, total_timesteps, callback, log_interval, tb_log_name, reset_num_timesteps, progress_bar)\u001b[0m\n\u001b[0;32m    345\u001b[0m         \u001b[38;5;66;03m# Special case when the user passes `gradient_steps=0`\u001b[39;00m\n\u001b[0;32m    346\u001b[0m         \u001b[38;5;28;01mif\u001b[39;00m gradient_steps \u001b[38;5;241m>\u001b[39m \u001b[38;5;241m0\u001b[39m:\n\u001b[1;32m--> 347\u001b[0m             \u001b[38;5;28;43mself\u001b[39;49m\u001b[38;5;241;43m.\u001b[39;49m\u001b[43mtrain\u001b[49m\u001b[43m(\u001b[49m\u001b[43mbatch_size\u001b[49m\u001b[38;5;241;43m=\u001b[39;49m\u001b[38;5;28;43mself\u001b[39;49m\u001b[38;5;241;43m.\u001b[39;49m\u001b[43mbatch_size\u001b[49m\u001b[43m,\u001b[49m\u001b[43m \u001b[49m\u001b[43mgradient_steps\u001b[49m\u001b[38;5;241;43m=\u001b[39;49m\u001b[43mgradient_steps\u001b[49m\u001b[43m)\u001b[49m\n\u001b[0;32m    349\u001b[0m callback\u001b[38;5;241m.\u001b[39mon_training_end()\n\u001b[0;32m    351\u001b[0m \u001b[38;5;28;01mreturn\u001b[39;00m \u001b[38;5;28mself\u001b[39m\n",
      "File \u001b[1;32mc:\\Users\\sumit\\GitRepos\\portfolio-rl\\venv\\Lib\\site-packages\\stable_baselines3\\td3\\td3.py:202\u001b[0m, in \u001b[0;36mTD3.train\u001b[1;34m(self, gradient_steps, batch_size)\u001b[0m\n\u001b[0;32m    199\u001b[0m actor_loss\u001b[38;5;241m.\u001b[39mbackward()\n\u001b[0;32m    200\u001b[0m \u001b[38;5;28mself\u001b[39m\u001b[38;5;241m.\u001b[39mactor\u001b[38;5;241m.\u001b[39moptimizer\u001b[38;5;241m.\u001b[39mstep()\n\u001b[1;32m--> 202\u001b[0m \u001b[43mpolyak_update\u001b[49m\u001b[43m(\u001b[49m\u001b[38;5;28;43mself\u001b[39;49m\u001b[38;5;241;43m.\u001b[39;49m\u001b[43mcritic\u001b[49m\u001b[38;5;241;43m.\u001b[39;49m\u001b[43mparameters\u001b[49m\u001b[43m(\u001b[49m\u001b[43m)\u001b[49m\u001b[43m,\u001b[49m\u001b[43m \u001b[49m\u001b[38;5;28;43mself\u001b[39;49m\u001b[38;5;241;43m.\u001b[39;49m\u001b[43mcritic_target\u001b[49m\u001b[38;5;241;43m.\u001b[39;49m\u001b[43mparameters\u001b[49m\u001b[43m(\u001b[49m\u001b[43m)\u001b[49m\u001b[43m,\u001b[49m\u001b[43m \u001b[49m\u001b[38;5;28;43mself\u001b[39;49m\u001b[38;5;241;43m.\u001b[39;49m\u001b[43mtau\u001b[49m\u001b[43m)\u001b[49m\n\u001b[0;32m    203\u001b[0m polyak_update(\u001b[38;5;28mself\u001b[39m\u001b[38;5;241m.\u001b[39mactor\u001b[38;5;241m.\u001b[39mparameters(), \u001b[38;5;28mself\u001b[39m\u001b[38;5;241m.\u001b[39mactor_target\u001b[38;5;241m.\u001b[39mparameters(), \u001b[38;5;28mself\u001b[39m\u001b[38;5;241m.\u001b[39mtau)\n\u001b[0;32m    204\u001b[0m \u001b[38;5;66;03m# Copy running stats, see GH issue #996\u001b[39;00m\n",
      "File \u001b[1;32mc:\\Users\\sumit\\GitRepos\\portfolio-rl\\venv\\Lib\\site-packages\\stable_baselines3\\common\\utils.py:470\u001b[0m, in \u001b[0;36mpolyak_update\u001b[1;34m(params, target_params, tau)\u001b[0m\n\u001b[0;32m    467\u001b[0m \u001b[38;5;28;01mwith\u001b[39;00m th\u001b[38;5;241m.\u001b[39mno_grad():\n\u001b[0;32m    468\u001b[0m     \u001b[38;5;66;03m# zip does not raise an exception if length of parameters does not match.\u001b[39;00m\n\u001b[0;32m    469\u001b[0m     \u001b[38;5;28;01mfor\u001b[39;00m param, target_param \u001b[38;5;129;01min\u001b[39;00m zip_strict(params, target_params):\n\u001b[1;32m--> 470\u001b[0m         \u001b[43mtarget_param\u001b[49m\u001b[38;5;241;43m.\u001b[39;49m\u001b[43mdata\u001b[49m\u001b[38;5;241;43m.\u001b[39;49m\u001b[43mmul_\u001b[49m\u001b[43m(\u001b[49m\u001b[38;5;241;43m1\u001b[39;49m\u001b[43m \u001b[49m\u001b[38;5;241;43m-\u001b[39;49m\u001b[43m \u001b[49m\u001b[43mtau\u001b[49m\u001b[43m)\u001b[49m\n\u001b[0;32m    471\u001b[0m         th\u001b[38;5;241m.\u001b[39madd(target_param\u001b[38;5;241m.\u001b[39mdata, param\u001b[38;5;241m.\u001b[39mdata, alpha\u001b[38;5;241m=\u001b[39mtau, out\u001b[38;5;241m=\u001b[39mtarget_param\u001b[38;5;241m.\u001b[39mdata)\n",
      "\u001b[1;31mKeyboardInterrupt\u001b[0m: "
     ]
    }
   ],
   "source": [
    "# Parallel environments\n",
    "from stable_baselines3 import DDPG, SAC\n",
    "from stable_baselines3.common.noise import NormalActionNoise\n",
    "\n",
    "train_env = PortfolioEnvWithTCost(dm=TrainDataManager(), rm=ProfitReward(), cp=0.01, cs=0.01)\n",
    "\n",
    "# Set seeds\n",
    "random.seed(42)\n",
    "np.random.seed(42)\n",
    "train_env.action_space.seed(43)\n",
    "torch.manual_seed(42)\n",
    "\n",
    "model = DDPG('MultiInputPolicy', train_env, buffer_size=5*10**7, verbose=1, policy_kwargs={\n",
    "  'features_extractor_class': Custom_EIEE_CNN_Extractor,\n",
    "}, action_noise=NormalActionNoise(mean=0, sigma=0.02*np.ones(5)))\n",
    "model.learn(total_timesteps=10**10, log_interval=1)"
   ]
  },
  {
   "cell_type": "code",
   "execution_count": null,
   "metadata": {},
   "outputs": [],
   "source": []
  },
  {
   "cell_type": "code",
   "execution_count": null,
   "metadata": {},
   "outputs": [],
   "source": []
  },
  {
   "cell_type": "code",
   "execution_count": null,
   "metadata": {},
   "outputs": [],
   "source": []
  },
  {
   "cell_type": "code",
   "execution_count": 3,
   "metadata": {},
   "outputs": [],
   "source": [
    "class TrainDataManager(AbstractDataManager):\n",
    "    def get_obs_space(self) -> gym.spaces.Box:\n",
    "        return gym.spaces.Dict({\n",
    "            'data': gym.spaces.Box(low=-np.inf, high=np.inf, shape=(self.universe_size, 6), dtype=np.float32),\n",
    "            'weights': gym.spaces.Box(low=0, high=1, shape=(self.universe_size+1,), dtype=np.float32)\n",
    "        })\n",
    "\n",
    "    def get_data(self) -> tuple[int, int]:\n",
    "        df = pd.read_csv('crsp_snp100_2010_to_2024.csv', dtype='string')\n",
    "        df = df[['date', 'TICKER', 'PRC', 'VOL', 'ASKHI', 'BIDLO', 'FACPR']]\n",
    "        df.date = pd.to_datetime(df.date)\n",
    "        df.FACPR = df.FACPR.fillna('0.0')\n",
    "        df.astype({\n",
    "            'PRC': float,\n",
    "            'VOL': float,\n",
    "            'ASKHI': float,\n",
    "            'BIDLO': float,\n",
    "            'FACPR': float\n",
    "        })\n",
    "        df = df.drop_duplicates(subset=['date', 'TICKER'])\n",
    "        df.dropna(inplace=True)\n",
    "        lst = ['AAPL', 'AMD', 'AMZN', 'IBM',]\n",
    "        ticker_ok = df.TICKER.value_counts() == df.TICKER.value_counts().max()\n",
    "        def is_max_val_count(ticker: str) -> bool:\n",
    "          return ticker_ok[ticker] and (ticker in lst)\n",
    "        ok = df.apply(lambda row: is_max_val_count(row['TICKER']), axis=1)\n",
    "        df = df[ok]\n",
    "        df = df[(df.date.dt.year >= 2010) & (df.date.dt.year <= 2019)]\n",
    "        self.stock_df = df.pivot(index='date', columns='TICKER', values='PRC').astype(float)\n",
    "\n",
    "        self.times = df.date.unique()[1:]\n",
    "        self.tickers = df.TICKER.unique()\n",
    "        self.num_time_periods = len(self.times)-15-1\n",
    "        self.universe_size = len(self.tickers)\n",
    "\n",
    "        print(f\"{self.universe_size=}\")\n",
    "        return self.num_time_periods, self.universe_size\n",
    "    \n",
    "    def get_state(self, t: int, w: npt.NDArray[np.float64], port_val: np.float64) -> npt.NDArray[np.float64]:\n",
    "        s = np.random.rand(self.universe_size, 6)\n",
    "        s[:, 0] = np.linspace(0, 1, self.universe_size)\n",
    "        # print(f\"{s.shape=}, {s=}\")\n",
    "        return {'data': s, 'weights': w}\n",
    "\n",
    "    def get_prices(self, t: int) -> npt.NDArray[np.float64]:\n",
    "        # today is self.times[self.t+3]\n",
    "        return np.append(self.stock_df.loc[self.times[t+3], :].to_numpy().flatten(), 1.0)"
   ]
  },
  {
   "cell_type": "code",
   "execution_count": 4,
   "metadata": {},
   "outputs": [],
   "source": [
    "from stable_baselines3.common.torch_layers import BaseFeaturesExtractor\n",
    "\n",
    "class Custom_EIEE_CNN_Extractor(BaseFeaturesExtractor):\n",
    "    def __init__(self, observation_space: gym.spaces.Dict, features_dim: int = 37):\n",
    "        super(Custom_EIEE_CNN_Extractor, self).__init__(observation_space, features_dim)\n",
    "        self.universe_size, data_len = observation_space['data'].shape\n",
    "        self.cnn = nn.Sequential(\n",
    "            nn.Conv2d(1, 2, kernel_size=(1, 3)),\n",
    "            nn.ReLU(),\n",
    "            nn.Conv2d(2, 4, kernel_size=(1, 3))\n",
    "        ).cuda()\n",
    "\n",
    "    def forward(self, observations: dict[str, torch.Tensor]) -> torch.Tensor:\n",
    "        # print(f\"{observations['data'][:, None, :, :].shape=}\")\n",
    "        x = self.cnn(observations['data'][:, None, :, :])\n",
    "        # print(f\"post cnn {x.shape=}, {observations['weights'].shape=}\")\n",
    "        # x = torch.hstack([x.flatten(start_dim=1), observations['weights']])\n",
    "        # return x.flatten(start_dim=1)\n",
    "        # print(f\"{x.flatten(start_dim=1).shape=}, {observations['weights'].flatten(start_dim=1).shape=}\")\n",
    "        return torch.cat((x.flatten(start_dim=1), observations['weights'].flatten(start_dim=1)), dim=1)"
   ]
  },
  {
   "cell_type": "code",
   "execution_count": 7,
   "metadata": {},
   "outputs": [
    {
     "name": "stdout",
     "output_type": "stream",
     "text": [
      "self.universe_size=4\n",
      "Using cuda device\n",
      "Wrapping the env with a `Monitor` wrapper\n",
      "Wrapping the env in a DummyVecEnv.\n"
     ]
    },
    {
     "name": "stderr",
     "output_type": "stream",
     "text": [
      "c:\\Users\\sumit\\GitRepos\\portfolio-rl\\portfolio_env_framework.py:135: RuntimeWarning: overflow encountered in scalar multiply\n",
      "  self.new_port_val = self.port_val * self.mu * (self.y @ self.w)\n"
     ]
    },
    {
     "name": "stdout",
     "output_type": "stream",
     "text": [
      "----------------------------------\n",
      "| rollout/           |           |\n",
      "|    ep_len_mean     | 2.5e+03   |\n",
      "|    ep_rew_mean     | -2.86e+04 |\n",
      "| time/              |           |\n",
      "|    episodes        | 1         |\n",
      "|    fps             | 89        |\n",
      "|    time_elapsed    | 27        |\n",
      "|    total_timesteps | 2499      |\n",
      "| train/             |           |\n",
      "|    actor_loss      | 34.1      |\n",
      "|    critic_loss     | 0.582     |\n",
      "|    learning_rate   | 0.001     |\n",
      "|    n_updates       | 2398      |\n",
      "----------------------------------\n",
      "----------------------------------\n",
      "| rollout/           |           |\n",
      "|    ep_len_mean     | 2.5e+03   |\n",
      "|    ep_rew_mean     | -1.47e+04 |\n",
      "| time/              |           |\n",
      "|    episodes        | 2         |\n",
      "|    fps             | 87        |\n",
      "|    time_elapsed    | 56        |\n",
      "|    total_timesteps | 4998      |\n",
      "| train/             |           |\n",
      "|    actor_loss      | 28        |\n",
      "|    critic_loss     | 0.0857    |\n",
      "|    learning_rate   | 0.001     |\n",
      "|    n_updates       | 4897      |\n",
      "----------------------------------\n",
      "----------------------------------\n",
      "| rollout/           |           |\n",
      "|    ep_len_mean     | 2.5e+03   |\n",
      "|    ep_rew_mean     | -9.98e+03 |\n",
      "| time/              |           |\n",
      "|    episodes        | 3         |\n",
      "|    fps             | 87        |\n",
      "|    time_elapsed    | 85        |\n",
      "|    total_timesteps | 7497      |\n",
      "| train/             |           |\n",
      "|    actor_loss      | 23.5      |\n",
      "|    critic_loss     | 0.0691    |\n",
      "|    learning_rate   | 0.001     |\n",
      "|    n_updates       | 7396      |\n",
      "----------------------------------\n",
      "----------------------------------\n",
      "| rollout/           |           |\n",
      "|    ep_len_mean     | 2.5e+03   |\n",
      "|    ep_rew_mean     | -7.62e+03 |\n",
      "| time/              |           |\n",
      "|    episodes        | 4         |\n",
      "|    fps             | 87        |\n",
      "|    time_elapsed    | 113       |\n",
      "|    total_timesteps | 9996      |\n",
      "| train/             |           |\n",
      "|    actor_loss      | 20        |\n",
      "|    critic_loss     | 0.0558    |\n",
      "|    learning_rate   | 0.001     |\n",
      "|    n_updates       | 9895      |\n",
      "----------------------------------\n",
      "---------------------------------\n",
      "| rollout/           |          |\n",
      "|    ep_len_mean     | 2.5e+03  |\n",
      "|    ep_rew_mean     | -6.2e+03 |\n",
      "| time/              |          |\n",
      "|    episodes        | 5        |\n",
      "|    fps             | 87       |\n",
      "|    time_elapsed    | 142      |\n",
      "|    total_timesteps | 12495    |\n",
      "| train/             |          |\n",
      "|    actor_loss      | 17       |\n",
      "|    critic_loss     | 0.115    |\n",
      "|    learning_rate   | 0.001    |\n",
      "|    n_updates       | 12394    |\n",
      "---------------------------------\n",
      "----------------------------------\n",
      "| rollout/           |           |\n",
      "|    ep_len_mean     | 2.5e+03   |\n",
      "|    ep_rew_mean     | -5.25e+03 |\n",
      "| time/              |           |\n",
      "|    episodes        | 6         |\n",
      "|    fps             | 87        |\n",
      "|    time_elapsed    | 171       |\n",
      "|    total_timesteps | 14994     |\n",
      "| train/             |           |\n",
      "|    actor_loss      | 14.2      |\n",
      "|    critic_loss     | 0.0512    |\n",
      "|    learning_rate   | 0.001     |\n",
      "|    n_updates       | 14893     |\n",
      "----------------------------------\n",
      "----------------------------------\n",
      "| rollout/           |           |\n",
      "|    ep_len_mean     | 2.5e+03   |\n",
      "|    ep_rew_mean     | -4.58e+03 |\n",
      "| time/              |           |\n",
      "|    episodes        | 7         |\n",
      "|    fps             | 87        |\n",
      "|    time_elapsed    | 200       |\n",
      "|    total_timesteps | 17493     |\n",
      "| train/             |           |\n",
      "|    actor_loss      | 11.8      |\n",
      "|    critic_loss     | 0.204     |\n",
      "|    learning_rate   | 0.001     |\n",
      "|    n_updates       | 17392     |\n",
      "----------------------------------\n",
      "----------------------------------\n",
      "| rollout/           |           |\n",
      "|    ep_len_mean     | 2.5e+03   |\n",
      "|    ep_rew_mean     | -4.07e+03 |\n",
      "| time/              |           |\n",
      "|    episodes        | 8         |\n",
      "|    fps             | 87        |\n",
      "|    time_elapsed    | 228       |\n",
      "|    total_timesteps | 19992     |\n",
      "| train/             |           |\n",
      "|    actor_loss      | 10.4      |\n",
      "|    critic_loss     | 0.113     |\n",
      "|    learning_rate   | 0.001     |\n",
      "|    n_updates       | 19891     |\n",
      "----------------------------------\n",
      "----------------------------------\n",
      "| rollout/           |           |\n",
      "|    ep_len_mean     | 2.5e+03   |\n",
      "|    ep_rew_mean     | -3.67e+03 |\n",
      "| time/              |           |\n",
      "|    episodes        | 9         |\n",
      "|    fps             | 87        |\n",
      "|    time_elapsed    | 257       |\n",
      "|    total_timesteps | 22491     |\n",
      "| train/             |           |\n",
      "|    actor_loss      | 8.48      |\n",
      "|    critic_loss     | 0.0468    |\n",
      "|    learning_rate   | 0.001     |\n",
      "|    n_updates       | 22390     |\n",
      "----------------------------------\n",
      "----------------------------------\n",
      "| rollout/           |           |\n",
      "|    ep_len_mean     | 2.5e+03   |\n",
      "|    ep_rew_mean     | -3.36e+03 |\n",
      "| time/              |           |\n",
      "|    episodes        | 10        |\n",
      "|    fps             | 87        |\n",
      "|    time_elapsed    | 285       |\n",
      "|    total_timesteps | 24990     |\n",
      "| train/             |           |\n",
      "|    actor_loss      | 6.97      |\n",
      "|    critic_loss     | 0.111     |\n",
      "|    learning_rate   | 0.001     |\n",
      "|    n_updates       | 24889     |\n",
      "----------------------------------\n",
      "---------------------------------\n",
      "| rollout/           |          |\n",
      "|    ep_len_mean     | 2.5e+03  |\n",
      "|    ep_rew_mean     | -3.1e+03 |\n",
      "| time/              |          |\n",
      "|    episodes        | 11       |\n",
      "|    fps             | 87       |\n",
      "|    time_elapsed    | 314      |\n",
      "|    total_timesteps | 27489    |\n",
      "| train/             |          |\n",
      "|    actor_loss      | 5.54     |\n",
      "|    critic_loss     | 0.0507   |\n",
      "|    learning_rate   | 0.001    |\n",
      "|    n_updates       | 27388    |\n",
      "---------------------------------\n"
     ]
    },
    {
     "ename": "KeyboardInterrupt",
     "evalue": "",
     "output_type": "error",
     "traceback": [
      "\u001b[1;31m---------------------------------------------------------------------------\u001b[0m",
      "\u001b[1;31mKeyboardInterrupt\u001b[0m                         Traceback (most recent call last)",
      "Cell \u001b[1;32mIn[7], line 16\u001b[0m\n\u001b[0;32m     11\u001b[0m torch\u001b[38;5;241m.\u001b[39mmanual_seed(\u001b[38;5;241m42\u001b[39m)\n\u001b[0;32m     13\u001b[0m model \u001b[38;5;241m=\u001b[39m DDPG(\u001b[38;5;124m'\u001b[39m\u001b[38;5;124mMultiInputPolicy\u001b[39m\u001b[38;5;124m'\u001b[39m, train_env, buffer_size\u001b[38;5;241m=\u001b[39m\u001b[38;5;241m10\u001b[39m\u001b[38;5;241m*\u001b[39m\u001b[38;5;241m*\u001b[39m\u001b[38;5;241m7\u001b[39m, verbose\u001b[38;5;241m=\u001b[39m\u001b[38;5;241m1\u001b[39m, policy_kwargs\u001b[38;5;241m=\u001b[39m{\n\u001b[0;32m     14\u001b[0m   \u001b[38;5;124m'\u001b[39m\u001b[38;5;124mfeatures_extractor_class\u001b[39m\u001b[38;5;124m'\u001b[39m: Custom_EIEE_CNN_Extractor,\n\u001b[0;32m     15\u001b[0m }, action_noise\u001b[38;5;241m=\u001b[39mNormalActionNoise(mean\u001b[38;5;241m=\u001b[39m\u001b[38;5;241m0\u001b[39m, sigma\u001b[38;5;241m=\u001b[39m\u001b[38;5;241m0.04\u001b[39m\u001b[38;5;241m*\u001b[39mnp\u001b[38;5;241m.\u001b[39mones(\u001b[38;5;241m5\u001b[39m)))\n\u001b[1;32m---> 16\u001b[0m \u001b[43mmodel\u001b[49m\u001b[38;5;241;43m.\u001b[39;49m\u001b[43mlearn\u001b[49m\u001b[43m(\u001b[49m\u001b[43mtotal_timesteps\u001b[49m\u001b[38;5;241;43m=\u001b[39;49m\u001b[38;5;241;43m10\u001b[39;49m\u001b[38;5;241;43m*\u001b[39;49m\u001b[38;5;241;43m*\u001b[39;49m\u001b[38;5;241;43m10\u001b[39;49m\u001b[43m,\u001b[49m\u001b[43m \u001b[49m\u001b[43mlog_interval\u001b[49m\u001b[38;5;241;43m=\u001b[39;49m\u001b[38;5;241;43m1\u001b[39;49m\u001b[43m)\u001b[49m\n",
      "File \u001b[1;32mc:\\Users\\sumit\\GitRepos\\portfolio-rl\\venv\\Lib\\site-packages\\stable_baselines3\\ddpg\\ddpg.py:123\u001b[0m, in \u001b[0;36mDDPG.learn\u001b[1;34m(self, total_timesteps, callback, log_interval, tb_log_name, reset_num_timesteps, progress_bar)\u001b[0m\n\u001b[0;32m    114\u001b[0m \u001b[38;5;28;01mdef\u001b[39;00m \u001b[38;5;21mlearn\u001b[39m(\n\u001b[0;32m    115\u001b[0m     \u001b[38;5;28mself\u001b[39m: SelfDDPG,\n\u001b[0;32m    116\u001b[0m     total_timesteps: \u001b[38;5;28mint\u001b[39m,\n\u001b[1;32m   (...)\u001b[0m\n\u001b[0;32m    121\u001b[0m     progress_bar: \u001b[38;5;28mbool\u001b[39m \u001b[38;5;241m=\u001b[39m \u001b[38;5;28;01mFalse\u001b[39;00m,\n\u001b[0;32m    122\u001b[0m ) \u001b[38;5;241m-\u001b[39m\u001b[38;5;241m>\u001b[39m SelfDDPG:\n\u001b[1;32m--> 123\u001b[0m     \u001b[38;5;28;01mreturn\u001b[39;00m \u001b[38;5;28;43msuper\u001b[39;49m\u001b[43m(\u001b[49m\u001b[43m)\u001b[49m\u001b[38;5;241;43m.\u001b[39;49m\u001b[43mlearn\u001b[49m\u001b[43m(\u001b[49m\n\u001b[0;32m    124\u001b[0m \u001b[43m        \u001b[49m\u001b[43mtotal_timesteps\u001b[49m\u001b[38;5;241;43m=\u001b[39;49m\u001b[43mtotal_timesteps\u001b[49m\u001b[43m,\u001b[49m\n\u001b[0;32m    125\u001b[0m \u001b[43m        \u001b[49m\u001b[43mcallback\u001b[49m\u001b[38;5;241;43m=\u001b[39;49m\u001b[43mcallback\u001b[49m\u001b[43m,\u001b[49m\n\u001b[0;32m    126\u001b[0m \u001b[43m        \u001b[49m\u001b[43mlog_interval\u001b[49m\u001b[38;5;241;43m=\u001b[39;49m\u001b[43mlog_interval\u001b[49m\u001b[43m,\u001b[49m\n\u001b[0;32m    127\u001b[0m \u001b[43m        \u001b[49m\u001b[43mtb_log_name\u001b[49m\u001b[38;5;241;43m=\u001b[39;49m\u001b[43mtb_log_name\u001b[49m\u001b[43m,\u001b[49m\n\u001b[0;32m    128\u001b[0m \u001b[43m        \u001b[49m\u001b[43mreset_num_timesteps\u001b[49m\u001b[38;5;241;43m=\u001b[39;49m\u001b[43mreset_num_timesteps\u001b[49m\u001b[43m,\u001b[49m\n\u001b[0;32m    129\u001b[0m \u001b[43m        \u001b[49m\u001b[43mprogress_bar\u001b[49m\u001b[38;5;241;43m=\u001b[39;49m\u001b[43mprogress_bar\u001b[49m\u001b[43m,\u001b[49m\n\u001b[0;32m    130\u001b[0m \u001b[43m    \u001b[49m\u001b[43m)\u001b[49m\n",
      "File \u001b[1;32mc:\\Users\\sumit\\GitRepos\\portfolio-rl\\venv\\Lib\\site-packages\\stable_baselines3\\td3\\td3.py:222\u001b[0m, in \u001b[0;36mTD3.learn\u001b[1;34m(self, total_timesteps, callback, log_interval, tb_log_name, reset_num_timesteps, progress_bar)\u001b[0m\n\u001b[0;32m    213\u001b[0m \u001b[38;5;28;01mdef\u001b[39;00m \u001b[38;5;21mlearn\u001b[39m(\n\u001b[0;32m    214\u001b[0m     \u001b[38;5;28mself\u001b[39m: SelfTD3,\n\u001b[0;32m    215\u001b[0m     total_timesteps: \u001b[38;5;28mint\u001b[39m,\n\u001b[1;32m   (...)\u001b[0m\n\u001b[0;32m    220\u001b[0m     progress_bar: \u001b[38;5;28mbool\u001b[39m \u001b[38;5;241m=\u001b[39m \u001b[38;5;28;01mFalse\u001b[39;00m,\n\u001b[0;32m    221\u001b[0m ) \u001b[38;5;241m-\u001b[39m\u001b[38;5;241m>\u001b[39m SelfTD3:\n\u001b[1;32m--> 222\u001b[0m     \u001b[38;5;28;01mreturn\u001b[39;00m \u001b[38;5;28;43msuper\u001b[39;49m\u001b[43m(\u001b[49m\u001b[43m)\u001b[49m\u001b[38;5;241;43m.\u001b[39;49m\u001b[43mlearn\u001b[49m\u001b[43m(\u001b[49m\n\u001b[0;32m    223\u001b[0m \u001b[43m        \u001b[49m\u001b[43mtotal_timesteps\u001b[49m\u001b[38;5;241;43m=\u001b[39;49m\u001b[43mtotal_timesteps\u001b[49m\u001b[43m,\u001b[49m\n\u001b[0;32m    224\u001b[0m \u001b[43m        \u001b[49m\u001b[43mcallback\u001b[49m\u001b[38;5;241;43m=\u001b[39;49m\u001b[43mcallback\u001b[49m\u001b[43m,\u001b[49m\n\u001b[0;32m    225\u001b[0m \u001b[43m        \u001b[49m\u001b[43mlog_interval\u001b[49m\u001b[38;5;241;43m=\u001b[39;49m\u001b[43mlog_interval\u001b[49m\u001b[43m,\u001b[49m\n\u001b[0;32m    226\u001b[0m \u001b[43m        \u001b[49m\u001b[43mtb_log_name\u001b[49m\u001b[38;5;241;43m=\u001b[39;49m\u001b[43mtb_log_name\u001b[49m\u001b[43m,\u001b[49m\n\u001b[0;32m    227\u001b[0m \u001b[43m        \u001b[49m\u001b[43mreset_num_timesteps\u001b[49m\u001b[38;5;241;43m=\u001b[39;49m\u001b[43mreset_num_timesteps\u001b[49m\u001b[43m,\u001b[49m\n\u001b[0;32m    228\u001b[0m \u001b[43m        \u001b[49m\u001b[43mprogress_bar\u001b[49m\u001b[38;5;241;43m=\u001b[39;49m\u001b[43mprogress_bar\u001b[49m\u001b[43m,\u001b[49m\n\u001b[0;32m    229\u001b[0m \u001b[43m    \u001b[49m\u001b[43m)\u001b[49m\n",
      "File \u001b[1;32mc:\\Users\\sumit\\GitRepos\\portfolio-rl\\venv\\Lib\\site-packages\\stable_baselines3\\common\\off_policy_algorithm.py:347\u001b[0m, in \u001b[0;36mOffPolicyAlgorithm.learn\u001b[1;34m(self, total_timesteps, callback, log_interval, tb_log_name, reset_num_timesteps, progress_bar)\u001b[0m\n\u001b[0;32m    345\u001b[0m         \u001b[38;5;66;03m# Special case when the user passes `gradient_steps=0`\u001b[39;00m\n\u001b[0;32m    346\u001b[0m         \u001b[38;5;28;01mif\u001b[39;00m gradient_steps \u001b[38;5;241m>\u001b[39m \u001b[38;5;241m0\u001b[39m:\n\u001b[1;32m--> 347\u001b[0m             \u001b[38;5;28;43mself\u001b[39;49m\u001b[38;5;241;43m.\u001b[39;49m\u001b[43mtrain\u001b[49m\u001b[43m(\u001b[49m\u001b[43mbatch_size\u001b[49m\u001b[38;5;241;43m=\u001b[39;49m\u001b[38;5;28;43mself\u001b[39;49m\u001b[38;5;241;43m.\u001b[39;49m\u001b[43mbatch_size\u001b[49m\u001b[43m,\u001b[49m\u001b[43m \u001b[49m\u001b[43mgradient_steps\u001b[49m\u001b[38;5;241;43m=\u001b[39;49m\u001b[43mgradient_steps\u001b[49m\u001b[43m)\u001b[49m\n\u001b[0;32m    349\u001b[0m callback\u001b[38;5;241m.\u001b[39mon_training_end()\n\u001b[0;32m    351\u001b[0m \u001b[38;5;28;01mreturn\u001b[39;00m \u001b[38;5;28mself\u001b[39m\n",
      "File \u001b[1;32mc:\\Users\\sumit\\GitRepos\\portfolio-rl\\venv\\Lib\\site-packages\\stable_baselines3\\td3\\td3.py:203\u001b[0m, in \u001b[0;36mTD3.train\u001b[1;34m(self, gradient_steps, batch_size)\u001b[0m\n\u001b[0;32m    200\u001b[0m \u001b[38;5;28mself\u001b[39m\u001b[38;5;241m.\u001b[39mactor\u001b[38;5;241m.\u001b[39moptimizer\u001b[38;5;241m.\u001b[39mstep()\n\u001b[0;32m    202\u001b[0m polyak_update(\u001b[38;5;28mself\u001b[39m\u001b[38;5;241m.\u001b[39mcritic\u001b[38;5;241m.\u001b[39mparameters(), \u001b[38;5;28mself\u001b[39m\u001b[38;5;241m.\u001b[39mcritic_target\u001b[38;5;241m.\u001b[39mparameters(), \u001b[38;5;28mself\u001b[39m\u001b[38;5;241m.\u001b[39mtau)\n\u001b[1;32m--> 203\u001b[0m \u001b[43mpolyak_update\u001b[49m\u001b[43m(\u001b[49m\u001b[38;5;28;43mself\u001b[39;49m\u001b[38;5;241;43m.\u001b[39;49m\u001b[43mactor\u001b[49m\u001b[38;5;241;43m.\u001b[39;49m\u001b[43mparameters\u001b[49m\u001b[43m(\u001b[49m\u001b[43m)\u001b[49m\u001b[43m,\u001b[49m\u001b[43m \u001b[49m\u001b[38;5;28;43mself\u001b[39;49m\u001b[38;5;241;43m.\u001b[39;49m\u001b[43mactor_target\u001b[49m\u001b[38;5;241;43m.\u001b[39;49m\u001b[43mparameters\u001b[49m\u001b[43m(\u001b[49m\u001b[43m)\u001b[49m\u001b[43m,\u001b[49m\u001b[43m \u001b[49m\u001b[38;5;28;43mself\u001b[39;49m\u001b[38;5;241;43m.\u001b[39;49m\u001b[43mtau\u001b[49m\u001b[43m)\u001b[49m\n\u001b[0;32m    204\u001b[0m \u001b[38;5;66;03m# Copy running stats, see GH issue #996\u001b[39;00m\n\u001b[0;32m    205\u001b[0m polyak_update(\u001b[38;5;28mself\u001b[39m\u001b[38;5;241m.\u001b[39mcritic_batch_norm_stats, \u001b[38;5;28mself\u001b[39m\u001b[38;5;241m.\u001b[39mcritic_batch_norm_stats_target, \u001b[38;5;241m1.0\u001b[39m)\n",
      "File \u001b[1;32mc:\\Users\\sumit\\GitRepos\\portfolio-rl\\venv\\Lib\\site-packages\\stable_baselines3\\common\\utils.py:470\u001b[0m, in \u001b[0;36mpolyak_update\u001b[1;34m(params, target_params, tau)\u001b[0m\n\u001b[0;32m    467\u001b[0m \u001b[38;5;28;01mwith\u001b[39;00m th\u001b[38;5;241m.\u001b[39mno_grad():\n\u001b[0;32m    468\u001b[0m     \u001b[38;5;66;03m# zip does not raise an exception if length of parameters does not match.\u001b[39;00m\n\u001b[0;32m    469\u001b[0m     \u001b[38;5;28;01mfor\u001b[39;00m param, target_param \u001b[38;5;129;01min\u001b[39;00m zip_strict(params, target_params):\n\u001b[1;32m--> 470\u001b[0m         \u001b[43mtarget_param\u001b[49m\u001b[38;5;241;43m.\u001b[39;49m\u001b[43mdata\u001b[49m\u001b[38;5;241;43m.\u001b[39;49m\u001b[43mmul_\u001b[49m\u001b[43m(\u001b[49m\u001b[38;5;241;43m1\u001b[39;49m\u001b[43m \u001b[49m\u001b[38;5;241;43m-\u001b[39;49m\u001b[43m \u001b[49m\u001b[43mtau\u001b[49m\u001b[43m)\u001b[49m\n\u001b[0;32m    471\u001b[0m         th\u001b[38;5;241m.\u001b[39madd(target_param\u001b[38;5;241m.\u001b[39mdata, param\u001b[38;5;241m.\u001b[39mdata, alpha\u001b[38;5;241m=\u001b[39mtau, out\u001b[38;5;241m=\u001b[39mtarget_param\u001b[38;5;241m.\u001b[39mdata)\n",
      "\u001b[1;31mKeyboardInterrupt\u001b[0m: "
     ]
    }
   ],
   "source": [
    "# Parallel environments\n",
    "from stable_baselines3 import DDPG, SAC\n",
    "from stable_baselines3.common.noise import NormalActionNoise\n",
    "\n",
    "train_env = PortfolioEnvWithTCost(dm=TrainDataManager(), rm=ProfitReward(), cp=0.01, cs=0.01)\n",
    "\n",
    "# Set seeds\n",
    "random.seed(42)\n",
    "np.random.seed(42)\n",
    "train_env.action_space.seed(43)\n",
    "torch.manual_seed(42)\n",
    "\n",
    "model = DDPG('MultiInputPolicy', train_env, buffer_size=10**7, verbose=1, policy_kwargs={\n",
    "  'features_extractor_class': Custom_EIEE_CNN_Extractor,\n",
    "}, action_noise=NormalActionNoise(mean=0, sigma=0.04*np.ones(5)))\n",
    "model.learn(total_timesteps=10**10, log_interval=1)"
   ]
  },
  {
   "cell_type": "code",
   "execution_count": null,
   "metadata": {},
   "outputs": [],
   "source": []
  }
 ],
 "metadata": {
  "kernelspec": {
   "display_name": "venv",
   "language": "python",
   "name": "python3"
  },
  "language_info": {
   "codemirror_mode": {
    "name": "ipython",
    "version": 3
   },
   "file_extension": ".py",
   "mimetype": "text/x-python",
   "name": "python",
   "nbconvert_exporter": "python",
   "pygments_lexer": "ipython3",
   "version": "3.12.2"
  }
 },
 "nbformat": 4,
 "nbformat_minor": 2
}
