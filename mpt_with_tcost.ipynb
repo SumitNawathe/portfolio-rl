{
 "cells": [
  {
   "cell_type": "code",
   "execution_count": 4,
   "metadata": {},
   "outputs": [],
   "source": [
    "import numpy as np\n",
    "import pandas as pd\n",
    "import gymnasium as gym\n",
    "import pandas_ta as ta\n",
    "from tensorly.decomposition import Tucker\n",
    "import torch\n",
    "from portfolio_env_with_tcost import AbstractPortfolioEnvWithTCost\n",
    "from typing import Tuple, Optional\n",
    "import numpy.typing as npt"
   ]
  },
  {
   "cell_type": "code",
   "execution_count": 5,
   "metadata": {},
   "outputs": [],
   "source": [
    "class MPTWithTCost(AbstractPortfolioEnvWithTCost):\n",
    "\n",
    "    def get_obs_space(self) -> gym.spaces.Box:\n",
    "        self.state_shape = (self.universe_size + 1, 31)\n",
    "        self.get_indicators()\n",
    "        return gym.spaces.Box(low=-np.inf, high=np.inf, shape=self.state_shape, dtype=np.float64)\n",
    "    \n",
    "    def get_data(self) -> Tuple[int, int]:\n",
    "        # read SNP data\n",
    "        df = pd.read_csv('crsp_snp100_2010_to_2024.csv', dtype='string')\n",
    "    \n",
    "        # convert datatypes\n",
    "        df = df[['date', 'TICKER', 'PRC', 'VOL', 'ASKHI', 'BIDLO', 'FACPR']]\n",
    "        df.date = pd.to_datetime(df.date)\n",
    "        df.FACPR = df.FACPR.fillna('0.0')\n",
    "        df.astype({\n",
    "            'PRC': float,\n",
    "            'VOL': float,\n",
    "            'ASKHI': float,\n",
    "            'BIDLO': float,\n",
    "            'FACPR': float\n",
    "        })\n",
    "    \n",
    "        # drop duplicates and nans\n",
    "        df = df.drop_duplicates(subset=['date', 'TICKER'])\n",
    "        df.dropna(inplace=True)\n",
    "    \n",
    "        # only include stocks that are present in all dates\n",
    "        ticker_ok = df.TICKER.value_counts() == df.TICKER.value_counts().max()\n",
    "\n",
    "        def is_max_val_count(ticker: str) -> bool:\n",
    "          return ticker_ok[ticker]\n",
    "        \n",
    "        ok = df.apply(lambda row: is_max_val_count(row['TICKER']), axis=1)\n",
    "        df = df[ok]\n",
    "        df = df[(df.date.dt.year >= 2010) & (df.date.dt.year <= 2019)]\n",
    "    \n",
    "        # create stock array\n",
    "        self.stock_df = df.pivot(index='date', columns='TICKER', values='PRC').astype(float)\n",
    "        \n",
    "        # adjust for stock splits\n",
    "        facpr_df = df.pivot(index='date', columns='TICKER', values='FACPR').astype(float)\n",
    "        self.stock_df = self.stock_df * (1+facpr_df).cumprod(axis=0)\n",
    "        self.ret = np.log(self.stock_df.pct_change().iloc[1:, :] + 1)\n",
    "        self.times = df.date.unique()[1:]\n",
    "        self.tickers = df.TICKER.unique()\n",
    "\n",
    "        return len(self.times)-100-1, len(self.tickers)\n",
    "\n",
    "    def get_indicators(self):\n",
    "        self.conv3d = torch.nn.Conv3d(in_channels=4, out_channels=32, kernel_size=(1, 3, 1), padding=\"same\")\n",
    "        self.relu = torch.nn.ReLU()\n",
    "        self.tucker = Tucker(rank=self.state_shape, init=\"random\")\n",
    "        self.m = 28\n",
    "        self.t = self.m\n",
    "        self.w1, self.w2, self.w3 = 28, 14, 9\n",
    "        \n",
    "        df = (pd.DataFrame(self.stock_df, columns=self.tickers))\n",
    "        df = df.dropna()\n",
    "        mp = {ticker: pd.DataFrame(df[ticker]).rename(columns={ticker: \"close\"}) for ticker in self.tickers}\n",
    "        # SMA df\n",
    "        sma = {ticker: pd.DataFrame(mp[ticker].ta.sma(self.w1)).rename(columns={\"SMA_28\": ticker}) for ticker in self.tickers}\n",
    "        sma_df = (pd.concat(sma.values(), axis=1))\n",
    "        # RSI df\n",
    "        rsi = {ticker: pd.DataFrame(mp[ticker].ta.rsi(self.w2)).rename(columns={\"RSI_14\": ticker}) for ticker in self.tickers}\n",
    "        rsi_df = (pd.concat(rsi.values(), axis=1))\n",
    "        # MACD df\n",
    "        macd = {ticker: pd.DataFrame(mp[ticker].ta.macd(self.w3, 26, 12)[\"MACD_9_26_12\"]).rename(columns={\"MACD_9_26_12\": ticker}) for ticker in self.tickers}\n",
    "        macd_df = (pd.concat(macd.values(), axis=1))\n",
    "\n",
    "        # Compute F = V @ Corr\n",
    "        V = np.array([np.array(x.T) for x in [df, sma_df, rsi_df, macd_df]])\n",
    "        Corr = np.array([np.corrcoef(x) for x in V])\n",
    "        self.F = np.einsum('aki,akj->akij', V, Corr)\n",
    "\n",
    "    def get_state(self) -> npt.NDArray[np.float64]:\n",
    "        f = self.F[:, :, self.t - self.m : self.t, :]\n",
    "        f = torch.Tensor(np.expand_dims(f, axis=0))\n",
    "        f = self.relu(self.conv3d(f)).detach().numpy().squeeze(axis=0)\n",
    "        core, _ = self.tucker.fit_transform(f)\n",
    "        return core \n",
    "\n",
    "    def get_prices(self) -> npt.NDArray[np.float64]:\n",
    "        return np.append(self.stock_df.loc[self.times[self.t+100], :].to_numpy().flatten(), 1.0)\n",
    "    "
   ]
  },
  {
   "cell_type": "code",
   "execution_count": 6,
   "metadata": {},
   "outputs": [],
   "source": [
    "env = MPTWithTCost()"
   ]
  },
  {
   "cell_type": "code",
   "execution_count": 19,
   "metadata": {},
   "outputs": [
    {
     "data": {
      "text/plain": [
       "(4, 84, 2516, 84)"
      ]
     },
     "execution_count": 19,
     "metadata": {},
     "output_type": "execute_result"
    }
   ],
   "source": [
    "env.F.shape"
   ]
  },
  {
   "cell_type": "code",
   "execution_count": null,
   "metadata": {},
   "outputs": [],
   "source": []
  }
 ],
 "metadata": {
  "kernelspec": {
   "display_name": "rl",
   "language": "python",
   "name": "python3"
  },
  "language_info": {
   "codemirror_mode": {
    "name": "ipython",
    "version": 3
   },
   "file_extension": ".py",
   "mimetype": "text/x-python",
   "name": "python",
   "nbconvert_exporter": "python",
   "pygments_lexer": "ipython3",
   "version": "3.9.19"
  }
 },
 "nbformat": 4,
 "nbformat_minor": 2
}
